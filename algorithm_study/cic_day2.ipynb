{
 "cells": [
  {
   "cell_type": "markdown",
   "metadata": {},
   "source": [
    "# 복습"
   ]
  },
  {
   "cell_type": "code",
   "execution_count": 1,
   "metadata": {},
   "outputs": [
    {
     "name": "stdout",
     "output_type": "stream",
     "text": [
      "['A', 'B', 'C']\n",
      "['A', 'B', 'C']\n"
     ]
    }
   ],
   "source": [
    "# 문자열 메서드\n",
    "# str.split(문자열) : 문자열을 기준으로 분할해서 리스트를 생성한다.\n",
    "\n",
    "print(\"A,B,C\".split(\",\"))\n",
    "\n",
    "# 기준 문자열이 없으면 공백을 기준으로 문자열을 분할한다.\n",
    "print(\"A B C\".split())"
   ]
  },
  {
   "cell_type": "code",
   "execution_count": 2,
   "metadata": {},
   "outputs": [
    {
     "name": "stdout",
     "output_type": "stream",
     "text": [
      "A/B/C\n"
     ]
    }
   ],
   "source": [
    "# \"뭘로 연결하고싶어?\".join(리스트) : 리스트 내부 문자열 원소들을 연결 문자열로 연결한다.\n",
    "print(\"/\".join([\"A\",\"B\",\"C\"]))\n",
    "\n",
    "# 문자열을 제외한 원소는 연결할 수 없다.(ex.숫자)"
   ]
  },
  {
   "cell_type": "code",
   "execution_count": 3,
   "metadata": {},
   "outputs": [
    {
     "name": "stdout",
     "output_type": "stream",
     "text": [
      "aAa aaa\n"
     ]
    }
   ],
   "source": [
    "# str.replace(\"기준 문자열\", \"대체 문자열\") : 기준 문자열을 대체 문자열로 바꾼 문자열을 생성한다.\n",
    "string = \"aAa\"\n",
    "new_string = string.replace(\"A\",\"a\") # => 꼭 변수에 저장해야함.\n",
    "\n",
    "print(string, new_string)"
   ]
  },
  {
   "cell_type": "markdown",
   "metadata": {},
   "source": [
    "# 리스트와 튜플 자료형(시퀀스 자료형)"
   ]
  },
  {
   "cell_type": "code",
   "execution_count": 4,
   "metadata": {},
   "outputs": [
    {
     "name": "stdout",
     "output_type": "stream",
     "text": [
      "(1, 2, 3, 4)\n",
      "(1, 2, 3, 4, 5, 6, 7)\n"
     ]
    }
   ],
   "source": [
    "# 수정(원소의 추가, 원소의 삭제, 원소의 수정)이 불가능한 리스트\n",
    "# 소괄호() 로 생성\n",
    "\n",
    "tuple1 = (1,2,3,4)\n",
    "print(tuple1)\n",
    "\n",
    "\n",
    "# 수정 불가\n",
    "# tuple1[0] = 0 => 오류 발생\n",
    "\n",
    "# 리스트의 더하기, 곱하기 동일하게 작용.\n",
    "\n",
    "tuple2 = (5,6,7)\n",
    "\n",
    "# tuple1, 2를 합친 새로운 튜플 생성.(재할당은 가능)\n",
    "tuple1 = tuple1 + tuple2\n",
    "print(tuple1)"
   ]
  },
  {
   "cell_type": "code",
   "execution_count": 5,
   "metadata": {},
   "outputs": [
    {
     "name": "stdout",
     "output_type": "stream",
     "text": [
      "8448728\n",
      "8000040\n"
     ]
    }
   ],
   "source": [
    "# 리스트와 튜플의 메모리 사용량 비교\n",
    "\n",
    "list_ = [i for i in range(10 ** 6)]\n",
    "tuple_ = tuple(list_)\n",
    "\n",
    "\n",
    "import sys # 특정 변수가 얼마나 많은 메모리를 실행하는지 반환하는 함수\n",
    "print(sys.getsizeof(list_))\n",
    "print(sys.getsizeof(tuple_)) # 튜플을 사용하는 것이 훨씬 더 적은 메모리 차지\n",
    "\n",
    "#list_.append()\n",
    "# 10개만 들어갈 수 있는 공간을 미리 만들어두고 값을 입력받음\n",
    "# 10개가 들어가면 공간을 더 만든다.\n",
    "# 튜플의 경우 원소가 더 들어올 일이 없기 때문에 미리 공간을 만들 필요가 없음."
   ]
  },
  {
   "cell_type": "code",
   "execution_count": 6,
   "metadata": {},
   "outputs": [
    {
     "data": {
      "text/plain": [
       "[0, 1, 2, 3, 4, 5, 6, 7, 8, 9]"
      ]
     },
     "execution_count": 6,
     "metadata": {},
     "output_type": "execute_result"
    }
   ],
   "source": [
    "# range() : 연속된 정수 목록을 생성하는 함수(자료형)\n",
    "# range(시작, 끝, 간격)\n",
    "# 끝 값에 대한 생략이 불가능.\n",
    "# 시작을 생략하면 자동으로 0부터 시작\n",
    "\n",
    "# 0~10의 범위를 가진 정수 목록\n",
    "# 끝의 숫자는 포함되지 않음\n",
    "\n",
    "# 끝 값을 포함할 경우 10~20 => 10 <=X <=20 / 20~3- => 20 <=X<=30 이런 식으로 20이 겹힐 수 있으므로 헷갈림.\n",
    "\n",
    "list(range(0,10,1))"
   ]
  },
  {
   "cell_type": "code",
   "execution_count": 7,
   "metadata": {},
   "outputs": [
    {
     "name": "stdout",
     "output_type": "stream",
     "text": [
      "['s', 't', 'r', 'i', 'n', 'g']\n",
      "['l', 'i', 's', 't']\n"
     ]
    }
   ],
   "source": [
    "string = \"string\"\n",
    "print(list(string))\n",
    "\n",
    "list_ = [\"l\",\"i\",\"s\",\"t\"]\n",
    "print(str(list_))\n",
    "\n",
    "# => .join() 메서드를 사용해서 리스트를 문자열로 반환해야하는 이유"
   ]
  },
  {
   "cell_type": "code",
   "execution_count": 8,
   "metadata": {},
   "outputs": [
    {
     "data": {
      "text/plain": [
       "'list'"
      ]
     },
     "execution_count": 8,
     "metadata": {},
     "output_type": "execute_result"
    }
   ],
   "source": [
    "\"\".join(list_) # 우리가 원하는 것"
   ]
  },
  {
   "cell_type": "markdown",
   "metadata": {},
   "source": [
    "# 순서가 없는 자료형(non-시퀀스 자료형)\n",
    "메모리에 저장될 때 순서가 없이 들어간다는 것을 의미"
   ]
  },
  {
   "cell_type": "markdown",
   "metadata": {},
   "source": [
    "## 딕셔너리(dict)"
   ]
  },
  {
   "cell_type": "code",
   "execution_count": 9,
   "metadata": {},
   "outputs": [
    {
     "name": "stdout",
     "output_type": "stream",
     "text": [
      "정우영\n",
      "남혜원\n",
      "{'name': '남혜원', '주소': '서울', '출생지': '대구'}\n",
      "{'주소': '서울', '출생지': '대구'} 남혜원\n",
      "{'주소': '서울'} ('출생지', '대구')\n"
     ]
    }
   ],
   "source": [
    "#(자바에서는 Hashmap, 자바스크립트에서는 object)\n",
    "\n",
    "# 딕셔너리 생성 중괄호 {}\n",
    "# 각 원소는 쉼표로 구분\n",
    "# key와 value는 콜론(:)으로 구분\n",
    "\n",
    "my_dict  = {\n",
    "    \"name\" : \"정우영\",\n",
    "    \"주소\" : \"서울\",\n",
    "}\n",
    "\n",
    "# key에 들어갈 수 있는 자료형 : 수정이 불가능한 자료형(list, dictionary는 key로 사용할 수 없다.)\n",
    "# value에 들어갈 수 있는 자료형에는 구분이 없다.\n",
    "\n",
    "# 딕셔너리의 키 인덱싱\n",
    "# dict[key]\n",
    "\n",
    "print(my_dict[\"name\"])\n",
    "\n",
    "# 딕셔너리 value 수정\n",
    "my_dict[\"name\"] = \"남혜원\"\n",
    "print(my_dict[\"name\"])\n",
    "\n",
    "# 딕셔너리 key_value 추가\n",
    "# 수정과 동일한 문법\n",
    "my_dict[\"출생지\"] = \"대구\"\n",
    "print(my_dict)\n",
    "\n",
    "# 딕셔너리의 key-value 삭제\n",
    "# key를 활용한 삭제 -> dict.pop(key)\n",
    "# value를 반환\n",
    "name = my_dict.pop(\"name\")\n",
    "print(my_dict, name)\n",
    "\n",
    "# 마지막 key_value를 삭제하고 반환하는 메서드 -> dict.popitem()\n",
    "# 반환된 데이터는 튜플 자료형\n",
    "item = my_dict.popitem()\n",
    "print(my_dict, item)\n",
    "\n"
   ]
  },
  {
   "cell_type": "code",
   "execution_count": 10,
   "metadata": {},
   "outputs": [
    {
     "name": "stdout",
     "output_type": "stream",
     "text": [
      "dict_keys(['이름', '좋아하는 것', '좋아하는 색'])\n",
      "dict_values(['감냠', '노래방, 클라이밍', '보라, 하늘, 연분홍, 초록'])\n",
      "dict_items([('이름', '감냠'), ('좋아하는 것', '노래방, 클라이밍'), ('좋아하는 색', '보라, 하늘, 연분홍, 초록')])\n"
     ]
    }
   ],
   "source": [
    "# 딕셔너리의 메서드\n",
    "my_dict = {\"이름\" : \"감냠\",\n",
    "           \"좋아하는 것\" : \"노래방, 클라이밍\",\n",
    "           \"좋아하는 색\" : \"보라, 하늘, 연분홍, 초록\"\n",
    "           }\n",
    "\n",
    "# dict.keys() : key 모음을 반환\n",
    "print(my_dict.keys())\n",
    "\n",
    "# dict.values() : value 모음을 반환\n",
    "print(my_dict.values())\n",
    "\n",
    "# dict.tiems() : items(key-value) 모음을 튜플로 반환\n",
    "print(my_dict.items())"
   ]
  },
  {
   "cell_type": "markdown",
   "metadata": {},
   "source": [
    "## 집합(set) 자료형"
   ]
  },
  {
   "cell_type": "code",
   "execution_count": 5,
   "metadata": {},
   "outputs": [
    {
     "name": "stdout",
     "output_type": "stream",
     "text": [
      "<class 'dict'>\n",
      "<class 'set'>\n",
      "{3, 6}\n"
     ]
    }
   ],
   "source": [
    "# 순서가 없는 자료형\n",
    "# 중복된 원소를 저장할 수 없다.(딕셔너리도 중복된 키를 생성할 수 없음.)\n",
    "\n",
    "# 빈 set 자료형 생성할 때는 set()\n",
    "# 원소가 있는 set 자료형은 중괄호 {}\n",
    "\n",
    "# 빈 set 자료라고 {} 사용하면 dict으로 인식\n",
    "set_={}\n",
    "print(type(set_))\n",
    "\n",
    "# 빈 set 자료형\n",
    "set_ = set()\n",
    "print(type(set_))\n",
    "\n",
    "# 원소가 있는 set\n",
    "# set_2 = {1,2,3,4,5}\n",
    "# print(type(set_2))\n",
    "\n",
    "# 원소의 수정이 불가능하다.\n",
    "# 원소로의 접근 수단이 없다.\n",
    "\n",
    "# 원소의 추가는 가능\n",
    "set_.add(6)\n",
    "set_.add(3)\n",
    "\n",
    "# set_.remove(2) : 지울 2가 없으므로 에러 발생\n",
    "set_.discard(2) # discard : 지울 원소가 없어도 오류가 발생하지 않음\n",
    "print(set_)"
   ]
  },
  {
   "cell_type": "code",
   "execution_count": 12,
   "metadata": {},
   "outputs": [
    {
     "name": "stdout",
     "output_type": "stream",
     "text": [
      "True\n",
      "False\n",
      "True\n",
      "False\n",
      "False\n",
      "True\n"
     ]
    }
   ],
   "source": [
    "# 컨테이너 자료형의 멤버십 연산자\n",
    "# in 컨테이너 : 컨테이너 안에 값이 존재하면 참(True)을 반환\n",
    "# not in 컨테이너 : 컨테이너 안에 값이 없으면 참(True)을 반환\n",
    "# 중복된 문자, 값을 찾을 경우.\n",
    "\n",
    "string = \"python\"\n",
    "list_3 = [\"p\",\"y\",\"t\"]\n",
    "\n",
    "print('p' in string)\n",
    "print('p' not in list_3)\n",
    "\n",
    "color_dict = {\n",
    "    '빨강' : 'red',\n",
    "    '파랑' : 'blue'\n",
    "}\n",
    "\n",
    "# 딕셔너리는 key 모음에서 값을 찾는다.\n",
    "print('빨강' in color_dict) # True\n",
    "print('blue' in color_dict) # False\n",
    "\n",
    "# dict.values()는 value 모음에서 값을 찾는다.\n",
    "print(\"빨강\" in color_dict.values())\n",
    "print('blue' in color_dict.values())"
   ]
  },
  {
   "cell_type": "markdown",
   "metadata": {},
   "source": [
    "# 조건문"
   ]
  },
  {
   "cell_type": "code",
   "execution_count": 15,
   "metadata": {},
   "outputs": [
    {
     "name": "stdout",
     "output_type": "stream",
     "text": [
      "x는 5보다 크다.\n",
      "조건식 결과와 상관없이 코드는 실행된다.\n"
     ]
    }
   ],
   "source": [
    "'''\n",
    "if 조건식 :\n",
    "    들여쓰기(indent)로 코드 블럭을 구분.\n",
    "    1 tab or 4 space를 통해 들여쓰기\n",
    "'''\n",
    "'''\n",
    "if 조건식 \n",
    "'''\n",
    "\n",
    "x = 10\n",
    "if x > 5:\n",
    "    print('x는 5보다 크다.')\n",
    "\n",
    "print(\"조건식 결과와 상관없이 코드는 실행된다.\")"
   ]
  },
  {
   "cell_type": "code",
   "execution_count": 21,
   "metadata": {},
   "outputs": [
    {
     "name": "stdout",
     "output_type": "stream",
     "text": [
      "x가 5봐 크다.\n"
     ]
    }
   ],
   "source": [
    "# elif\n",
    "\n",
    "x=10\n",
    "if x > 10:\n",
    "    print(\"x가 10보다 크다\")\n",
    "elif x> 5:\n",
    "    print(\"x가 5봐 크다.\")\n",
    "elif x>3 :\n",
    "    print(\"x가 3보다 크다.\")\n",
    "else :\n",
    "    print('x는 그 누구보다도 크지 않다.')"
   ]
  },
  {
   "cell_type": "markdown",
   "metadata": {},
   "source": [
    "# 반복문"
   ]
  },
  {
   "cell_type": "markdown",
   "metadata": {},
   "source": [
    "## for 반복문"
   ]
  },
  {
   "cell_type": "code",
   "execution_count": 31,
   "metadata": {},
   "outputs": [
    {
     "name": "stdout",
     "output_type": "stream",
     "text": [
      "12341\n",
      "2\n"
     ]
    }
   ],
   "source": [
    "# for 반복문\n",
    "\"\"\"자바에서는\n",
    "for(int 9 = 0, i<10; i++){\n",
    "}\n",
    "for(초기화; 조건식; 증감식){\n",
    "}\n",
    "\"\"\"\n",
    "\"\"\"\n",
    "for 내부변수 in 컨테이너 :\n",
    "    반복 실행할 코드 블럭\n",
    "\n",
    "파이썬은 범위가 정해진 반복문\n",
    "\"\"\"\n",
    "# 컨테이너 자료형인 리스트\n",
    "list_5 = [1,2,3,4]\n",
    "\n",
    "for i in list_5 :\n",
    "    print(i, end = \"\")\n",
    "    i = 100 #내부에서 변수를 수정해도 값에 영향을 주지 않는다.\n",
    "\n",
    "for i in list_5 :\n",
    "    list_5.pop() # for 반복문 사용 시 컨테이너에 조작을 가하면 안된다.(원소 추가, 삭제, 수정)\n",
    "    print(i)\n",
    "    i = 100 #내부에서 변수를 수정해도 값에 영향을 주지 않는다."
   ]
  },
  {
   "cell_type": "code",
   "execution_count": 34,
   "metadata": {},
   "outputs": [
    {
     "name": "stdout",
     "output_type": "stream",
     "text": [
      "red\n",
      "blue\n",
      "red 빨간색\n",
      "blue 파란색\n"
     ]
    }
   ],
   "source": [
    "# 딕셔너리 반복문\n",
    "dic = {\n",
    "    \"red\" : \"빨간색\",\n",
    "    \"blue\": \"파란색\"\n",
    "}\n",
    "\n",
    "for key in dic:\n",
    "    print(key)\n",
    "\n",
    "for key in dic :\n",
    "    value  = dic[key]\n",
    "    print(key, value)"
   ]
  },
  {
   "cell_type": "code",
   "execution_count": 39,
   "metadata": {},
   "outputs": [
    {
     "name": "stdout",
     "output_type": "stream",
     "text": [
      "5\n",
      "0 1\n",
      "1 2\n",
      "2 3\n",
      "3 4\n",
      "4 5\n"
     ]
    }
   ],
   "source": [
    "# 리스트 인덱스를 통한 순회(반복)\n",
    "\n",
    "# 리스트 인덱스 목록 (리스트)\n",
    "\n",
    "list_7 = [1,2,3,4,5]\n",
    "\n",
    "# len() 함수 : 컨테이너 자료형의 길이(원소의 개수)를 반환\n",
    "length = len(list_7)\n",
    "print(length)\n",
    "\n",
    "# range(시작, 끝, 간격)\n",
    "# 인덱스 범위\n",
    "range(0, length)\n",
    "\n",
    "for index in range(0, length):\n",
    "    print(index, list_7[index])"
   ]
  },
  {
   "cell_type": "code",
   "execution_count": null,
   "metadata": {},
   "outputs": [],
   "source": [
    "\"\"\"\n",
    "for(i = 0 ; i <10 ;i +=1)\n",
    "{\n",
    "}\n",
    "\"\"\""
   ]
  },
  {
   "cell_type": "code",
   "execution_count": 46,
   "metadata": {},
   "outputs": [
    {
     "name": "stdout",
     "output_type": "stream",
     "text": [
      "0 1\n",
      "1 2\n",
      "2 3\n",
      "3 4\n",
      "4 5\n",
      "(0, 1)\n",
      "(1, 2)\n",
      "(2, 3)\n",
      "(3, 4)\n",
      "(4, 5)\n"
     ]
    }
   ],
   "source": [
    "for index, value in enumerate(list_7):\n",
    "    print(index, value)\n",
    "\n",
    "for index in enumerate(list_7):\n",
    "    print(index)"
   ]
  },
  {
   "cell_type": "code",
   "execution_count": 60,
   "metadata": {},
   "outputs": [
    {
     "name": "stdout",
     "output_type": "stream",
     "text": [
      "0\n",
      "1\n",
      "2\n",
      "3\n",
      "4\n",
      "5\n",
      "6\n",
      "7\n",
      "8\n",
      "9\n",
      "55\n"
     ]
    }
   ],
   "source": [
    "# while 반복문\n",
    "\"\"\"while 조건식 :\n",
    "    반복할 코드 블럭\n",
    "\"\"\"\n",
    "\n",
    "i = 0\n",
    "sum = 0\n",
    "\n",
    "while i < 10 :\n",
    "    print(i)\n",
    "    i += 1\n",
    "    sum += i\n",
    "print(sum)"
   ]
  },
  {
   "cell_type": "code",
   "execution_count": 62,
   "metadata": {},
   "outputs": [
    {
     "name": "stdout",
     "output_type": "stream",
     "text": [
      "0\n",
      "1\n",
      "3\n",
      "4\n"
     ]
    }
   ],
   "source": [
    "list_10 = [1,2,3,4,5]\n",
    "length = len(list_10)\n",
    "i = 0\n",
    "\n",
    "while i < length :\n",
    "    print(i)\n",
    "    if list_10[i] == 2:\n",
    "        i+= 2\n",
    "    else :\n",
    "        i+=1\n",
    "\n",
    "# 조건에 따라 더하는 간격을 다르게하는건 for문에선 불가능하고 while문을 통해 가능.\n",
    "\n",
    "# for / while\n",
    "# for : 범위가 정해진 경우\n",
    "# while : 조건에 따라 반복을 해야하는 경우\n",
    "\n",
    "# 쉬운 난이도에서부터 while로 연습하기"
   ]
  },
  {
   "cell_type": "code",
   "execution_count": 64,
   "metadata": {},
   "outputs": [],
   "source": [
    "# 무한 반복 : while 조건식이 항상 참(True)인 경우 혹은 조건식 대신 참(True)\n",
    "while True :\n",
    "    pass\n",
    "    break"
   ]
  },
  {
   "cell_type": "code",
   "execution_count": 68,
   "metadata": {},
   "outputs": [
    {
     "name": "stdout",
     "output_type": "stream",
     "text": [
      "0\n",
      "1\n",
      "2\n",
      "3\n",
      "4\n"
     ]
    }
   ],
   "source": [
    "# 반복문을 제어하는 키워드\n",
    "# break, continue, pass\n",
    "\n",
    "# pass : 비어있는 코드 블럭의 오류를 방지\n",
    "\n",
    "x = 10\n",
    "if x>5 :\n",
    "    pass\n",
    "\n",
    "for i in range(0,10):\n",
    "    if i == 5:\n",
    "        break\n",
    "    print(i)"
   ]
  },
  {
   "cell_type": "code",
   "execution_count": 70,
   "metadata": {},
   "outputs": [
    {
     "name": "stdout",
     "output_type": "stream",
     "text": [
      "1\n"
     ]
    }
   ],
   "source": [
    "# 무한 반복과 브레이크 : 반복문 자체를 종료\n",
    "i = 0\n",
    "while True :\n",
    "    if i == 5:\n",
    "        break\n",
    "    if i % 2 == 1:\n",
    "        break\n",
    "    i += 1\n",
    "    print(i)"
   ]
  },
  {
   "cell_type": "code",
   "execution_count": 77,
   "metadata": {},
   "outputs": [
    {
     "name": "stdout",
     "output_type": "stream",
     "text": [
      "0\n",
      "1\n",
      "3\n",
      "5\n",
      "6\n",
      "8\n",
      "9\n"
     ]
    }
   ],
   "source": [
    "# continue : 현재 반복을 종료하고 다음 반복으로 넘어간다.\n",
    "# 조건에 대한 필터링을 할 때 활용\n",
    "for i in range(10) :\n",
    "    if i == 2:\n",
    "        continue\n",
    "\n",
    "    if i != 2:\n",
    "        if i != 4:\n",
    "            if i != 7:\n",
    "                print(i)\n",
    "\n",
    "# for문 사용 시 조건이 너무 깊어짐"
   ]
  },
  {
   "cell_type": "code",
   "execution_count": 78,
   "metadata": {},
   "outputs": [
    {
     "name": "stdout",
     "output_type": "stream",
     "text": [
      "0\n",
      "0\n",
      "0\n",
      "1\n",
      "1\n",
      "1\n",
      "2\n",
      "2\n",
      "3\n",
      "3\n",
      "3\n",
      "4\n",
      "4\n",
      "5\n",
      "5\n",
      "5\n",
      "6\n",
      "6\n",
      "6\n",
      "7\n",
      "7\n",
      "8\n",
      "8\n",
      "8\n",
      "9\n",
      "9\n",
      "9\n"
     ]
    }
   ],
   "source": [
    "for i in range(10) :\n",
    "    if i != 2:\n",
    "        print(i)\n",
    "    if i != 4:\n",
    "        print(i)\n",
    "    if i != 7:\n",
    "        print(i)"
   ]
  },
  {
   "cell_type": "code",
   "execution_count": null,
   "metadata": {},
   "outputs": [],
   "source": [
    "for i in range(10) :\n",
    "    if i == 2:\n",
    "        continue\n",
    "\n",
    "    if i != 2:\n",
    "        if i != 4:\n",
    "            if i != 7:\n",
    "                print(i)\n",
    "\n",
    "# 이 칸 다시 수정"
   ]
  },
  {
   "cell_type": "markdown",
   "metadata": {},
   "source": [
    "# for ~ else문, while ~ else문"
   ]
  },
  {
   "cell_type": "code",
   "execution_count": 84,
   "metadata": {},
   "outputs": [
    {
     "name": "stdout",
     "output_type": "stream",
     "text": [
      "0\n",
      "1\n",
      "2\n",
      "3\n",
      "4\n",
      "5\n",
      "6\n",
      "7\n",
      "8\n",
      "9\n",
      "10이 범위에 없다\n"
     ]
    }
   ],
   "source": [
    "# for ~ else문\n",
    "\n",
    "for i in range(10) :\n",
    "    if i == 10:\n",
    "        break\n",
    "    print(i)\n",
    "else :\n",
    "    #break에 의해 반복문이 종료가 되지 않으면 실행되는 부분\n",
    "    print(\"10이 범위에 없다\")"
   ]
  },
  {
   "cell_type": "code",
   "execution_count": 88,
   "metadata": {},
   "outputs": [
    {
     "name": "stdout",
     "output_type": "stream",
     "text": [
      "0\n",
      "1\n",
      "2\n",
      "3\n",
      "4\n",
      "5\n",
      "6\n",
      "7\n",
      "8\n",
      "9\n",
      "10이 범위에 없다\n"
     ]
    }
   ],
   "source": [
    "# while ~ else문\n",
    "i = 0\n",
    "while i < 10 :\n",
    "    if i == 10:\n",
    "        break\n",
    "    print(i)\n",
    "    i += 1\n",
    "else :\n",
    "    print(\"10이 범위에 없다\")"
   ]
  },
  {
   "cell_type": "code",
   "execution_count": null,
   "metadata": {},
   "outputs": [],
   "source": []
  }
 ],
 "metadata": {
  "kernelspec": {
   "display_name": "project",
   "language": "python",
   "name": "python3"
  },
  "language_info": {
   "codemirror_mode": {
    "name": "ipython",
    "version": 3
   },
   "file_extension": ".py",
   "mimetype": "text/x-python",
   "name": "python",
   "nbconvert_exporter": "python",
   "pygments_lexer": "ipython3",
   "version": "3.11.9"
  }
 },
 "nbformat": 4,
 "nbformat_minor": 2
}
