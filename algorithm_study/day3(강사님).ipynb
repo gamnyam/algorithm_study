{
 "cells": [
  {
   "cell_type": "code",
   "execution_count": 1,
   "metadata": {},
   "outputs": [
    {
     "name": "stdout",
     "output_type": "stream",
     "text": [
      "3\n"
     ]
    }
   ],
   "source": [
    "# 파이썬 함수\n",
    "\n",
    "# def 함수명(매개변수들):\n",
    "def function(para1, para2):\n",
    "    total = para1 + para2\n",
    "\n",
    "    return total\n",
    "\n",
    "total = function(1,2)\n",
    "\n",
    "print(total)\n",
    "\n",
    "# 매개변수 O, 반환값 O\n",
    "# 매개변수 O, 반환값 X\n",
    "# 매개변수 X, 반환값 O\n",
    "# 매개변수 X, 반환값 X"
   ]
  },
  {
   "cell_type": "code",
   "execution_count": 2,
   "metadata": {},
   "outputs": [
    {
     "name": "stdout",
     "output_type": "stream",
     "text": [
      "print()함수는 반환값이 없는 함수\n",
      "None\n"
     ]
    }
   ],
   "source": [
    "variable = print(\"print()함수는 반환값이 없는 함수\")\n",
    "print(variable)"
   ]
  },
  {
   "cell_type": "code",
   "execution_count": 6,
   "metadata": {},
   "outputs": [
    {
     "name": "stdout",
     "output_type": "stream",
     "text": [
      "1\n",
      "2\n",
      "3\n",
      "4\n",
      "5\n",
      "6\n",
      "7\n",
      "8\n",
      "9\n"
     ]
    }
   ],
   "source": [
    "# 중첩 반복문\n",
    "# 이차원 리스트의 순회를 위한 이중 반복문\n",
    "\n",
    "matrix = [\n",
    "    [1, 2, 3],\n",
    "    [4, 5, 6],\n",
    "    [7, 8, 9],\n",
    "]\n",
    "\n",
    "# 두 번의 인덱싱을 통해 원소에 접근\n",
    "# [세로][가로] / [행][열] / [row][col] / [r][c] / [y][x] \n",
    "number = matrix[0][0]\n",
    "\n",
    "# 이중 반복문을 통한 이차원 리스트 순회\n",
    "\n",
    "# 세로 길이(n, N)와 가로 길이(m, M)\n",
    "n = len(matrix)\n",
    "m = len(matrix[0])\n",
    "\n",
    "# 인덱스를 통한 순회\n",
    "for y in range(n):\n",
    "    for x in range(m):\n",
    "        print(matrix[y][x])\n",
    "\n"
   ]
  },
  {
   "cell_type": "code",
   "execution_count": 9,
   "metadata": {},
   "outputs": [
    {
     "name": "stdout",
     "output_type": "stream",
     "text": [
      "1 2 6\n"
     ]
    },
    {
     "ename": "IndexError",
     "evalue": "list index out of range",
     "output_type": "error",
     "traceback": [
      "\u001b[1;31m---------------------------------------------------------------------------\u001b[0m",
      "\u001b[1;31mIndexError\u001b[0m                                Traceback (most recent call last)",
      "Cell \u001b[1;32mIn[9], line 17\u001b[0m\n\u001b[0;32m     15\u001b[0m next_y \u001b[38;5;241m=\u001b[39m y \u001b[38;5;241m+\u001b[39m dy[d]\n\u001b[0;32m     16\u001b[0m next_x \u001b[38;5;241m=\u001b[39m x \u001b[38;5;241m+\u001b[39m dx[d]\n\u001b[1;32m---> 17\u001b[0m \u001b[38;5;28mprint\u001b[39m(next_y, next_x, \u001b[43mmatrix\u001b[49m\u001b[43m[\u001b[49m\u001b[43mnext_y\u001b[49m\u001b[43m]\u001b[49m[next_x])\n",
      "\u001b[1;31mIndexError\u001b[0m: list index out of range"
     ]
    }
   ],
   "source": [
    "# 한 좌표에서의 델타 탐색\n",
    "matrix = [\n",
    "    [1, 2, 3],\n",
    "    [4, 5, 6],\n",
    "    [7, 8, 9],\n",
    "]\n",
    "\n",
    "y = 1\n",
    "x = 1\n",
    "\n",
    "dy = [-1, 1, 0, 0] # y에 대한 상하좌우 변화값\n",
    "dx = [0, 0, -1, 1] # x에 대한 상하좌우 변화값\n",
    "\n",
    "for d in range(4):\n",
    "    next_y = y + dy[d]\n",
    "    next_x = x + dx[d]\n",
    "    print(next_y, next_x)\n"
   ]
  },
  {
   "cell_type": "code",
   "execution_count": 12,
   "metadata": {},
   "outputs": [
    {
     "name": "stdout",
     "output_type": "stream",
     "text": [
      "1 2 6\n",
      "2 1 8\n"
     ]
    }
   ],
   "source": [
    "# 한 좌표에서의 델타 탐색\n",
    "matrix = [\n",
    "    [1, 2, 3],\n",
    "    [4, 5, 6],\n",
    "    [7, 8, 9],\n",
    "]\n",
    "\n",
    "n = len(matrix)\n",
    "m = len(matrix[0])\n",
    "\n",
    "y = 2\n",
    "x = 2\n",
    "\n",
    "dy = [-1, 1, 0, 0] # y에 대한 상하좌우 변화값\n",
    "dx = [0, 0, -1, 1] # x에 대한 상하좌우 변화값\n",
    "\n",
    "for d in range(4):\n",
    "    next_y = y + dy[d]\n",
    "    next_x = x + dx[d]\n",
    "\n",
    "    # 범위 조건문\n",
    "    if -1 < next_y < n and -1 < next_x < m:\n",
    "        print(next_y, next_x, matrix[next_y][next_x])\n"
   ]
  },
  {
   "cell_type": "code",
   "execution_count": 15,
   "metadata": {},
   "outputs": [
    {
     "name": "stdout",
     "output_type": "stream",
     "text": [
      "기준 좌표 : 0,0\n",
      "1 0 4\n",
      "0 1 2\n",
      "기준 좌표 : 0,1\n",
      "1 1 5\n",
      "0 0 1\n",
      "0 2 3\n",
      "기준 좌표 : 0,2\n",
      "1 2 6\n",
      "0 1 2\n",
      "기준 좌표 : 1,0\n",
      "0 0 1\n",
      "2 0 7\n",
      "1 1 5\n",
      "기준 좌표 : 1,1\n",
      "0 1 2\n",
      "2 1 8\n",
      "1 0 4\n",
      "1 2 6\n",
      "기준 좌표 : 1,2\n",
      "0 2 3\n",
      "2 2 9\n",
      "1 1 5\n",
      "기준 좌표 : 2,0\n",
      "1 0 4\n",
      "2 1 8\n",
      "기준 좌표 : 2,1\n",
      "1 1 5\n",
      "2 0 7\n",
      "2 2 9\n",
      "기준 좌표 : 2,2\n",
      "1 2 6\n",
      "2 1 8\n"
     ]
    }
   ],
   "source": [
    "# 이차원 리스트의 모든 좌표에서의 델타 탐색\n",
    "# 1. 이차원 리스트의 이중 반복문을 통한 인덱스 순회\n",
    "# 2. 델타 탐색\n",
    "\n",
    "matrix = [\n",
    "    [1, 2, 3],\n",
    "    [4, 5, 6],\n",
    "    [7, 8, 9],\n",
    "]\n",
    "\n",
    "n = len(matrix) # 세로 길이\n",
    "m = len(matrix[0]) # 가로 길이\n",
    "\n",
    "# 모든 좌표에서의 델타 탐색 코드 작성\n",
    "for y in range(n):\n",
    "    for x in range(m):\n",
    "        # 델타 탐색의 기준 좌표 y, x\n",
    "        \n",
    "        # y, x에 대한 변화값\n",
    "        dy = [-1, 1, 0, 0]\n",
    "        dx = [0, 0, -1, 1]\n",
    "        print(f\"기준 좌표 : {y},{x}\")\n",
    "\n",
    "        # 델타 탐색(4방향 탐색)\n",
    "        for d in range(4):\n",
    "            next_y = y + dy[d]\n",
    "            next_x = x + dx[d]\n",
    "            \n",
    "            # 범위에 대한 조건문\n",
    "            if -1 < next_y < n and -1 < next_x < m:\n",
    "                print(next_y, next_x, matrix[next_y][next_x])    \n",
    "\n"
   ]
  },
  {
   "cell_type": "code",
   "execution_count": 22,
   "metadata": {},
   "outputs": [
    {
     "name": "stdout",
     "output_type": "stream",
     "text": [
      "[1]\n",
      "[1]\n"
     ]
    }
   ],
   "source": [
    "# 파이썬 입력 경우의 수\n",
    "\n",
    "# 1. 정수(숫자) 1개를 입력하는 경우\n",
    "# number = int(input())\n",
    "\n",
    "# 2. 정수 2개 이상을 입력하는 경우\n",
    "# 문자열 메서드 str.split() : 기준 문자열로 구분해서 나눈 리스트 생성\n",
    "input_list = input().split(\" \")\n",
    "\n",
    "# 문자열 원소들 -> 정수형 변환\n",
    "# 각 원소에 int() 함수를 적용해야할 필요가 있다.\n",
    "\n",
    "# 2-1. 반복문 활용한 방법\n",
    "new_list = []\n",
    "for number in input_list:\n",
    "    new_list.append(int(number))\n",
    "print(new_list)\n",
    "\n",
    "# 2-2. map() 함수 활용한 방법\n",
    "# map(함수, 컨테이너 자료형) : 컨테이너의 각 원소에 함수를 적용한 결과를 반환\n",
    "new_list = list(map(int, input_list))\n",
    "print(new_list)"
   ]
  },
  {
   "cell_type": "code",
   "execution_count": 33,
   "metadata": {},
   "outputs": [
    {
     "name": "stdout",
     "output_type": "stream",
     "text": [
      "3 3\n"
     ]
    },
    {
     "ename": "ValueError",
     "evalue": "invalid literal for int() with base 10: ''",
     "output_type": "error",
     "traceback": [
      "\u001b[1;31m---------------------------------------------------------------------------\u001b[0m",
      "\u001b[1;31mValueError\u001b[0m                                Traceback (most recent call last)",
      "Cell \u001b[1;32mIn[33], line 20\u001b[0m\n\u001b[0;32m     14\u001b[0m \u001b[38;5;250m\u001b[39m\u001b[38;5;124;03m\"\"\"\u001b[39;00m\n\u001b[0;32m     15\u001b[0m \u001b[38;5;124;03m1 1 1\u001b[39;00m\n\u001b[0;32m     16\u001b[0m \u001b[38;5;124;03m2 2 2\u001b[39;00m\n\u001b[0;32m     17\u001b[0m \u001b[38;5;124;03m0 1 0\u001b[39;00m\n\u001b[0;32m     18\u001b[0m \u001b[38;5;124;03m\"\"\"\u001b[39;00m\n\u001b[0;32m     19\u001b[0m input_list \u001b[38;5;241m=\u001b[39m \u001b[38;5;28minput\u001b[39m()\u001b[38;5;241m.\u001b[39msplit(\u001b[38;5;124m\"\u001b[39m\u001b[38;5;124m \u001b[39m\u001b[38;5;124m\"\u001b[39m) \u001b[38;5;66;03m# 결과 예시 : [\"1\", \"1\", \"1\"]\u001b[39;00m\n\u001b[1;32m---> 20\u001b[0m number_list \u001b[38;5;241m=\u001b[39m \u001b[38;5;28;43mlist\u001b[39;49m\u001b[43m(\u001b[49m\u001b[38;5;28;43mmap\u001b[39;49m\u001b[43m(\u001b[49m\u001b[38;5;28;43mint\u001b[39;49m\u001b[43m,\u001b[49m\u001b[43m \u001b[49m\u001b[43minput_list\u001b[49m\u001b[43m)\u001b[49m\u001b[43m)\u001b[49m \u001b[38;5;66;03m# 결과 예시 : [1, 1, 1]\u001b[39;00m\n\u001b[0;32m     21\u001b[0m matrixA\u001b[38;5;241m.\u001b[39mappend(number_list)\n\u001b[0;32m     22\u001b[0m \u001b[38;5;250m\u001b[39m\u001b[38;5;124;03m\"\"\"\u001b[39;00m\n\u001b[0;32m     23\u001b[0m \u001b[38;5;124;03mmatrixA 결과 예시\u001b[39;00m\n\u001b[0;32m     24\u001b[0m \u001b[38;5;124;03m[[1, 1, 1]\u001b[39;00m\n\u001b[0;32m     25\u001b[0m \u001b[38;5;124;03m[2, 2, 2]\u001b[39;00m\n\u001b[0;32m     26\u001b[0m \u001b[38;5;124;03m[0, 1, 0]]\u001b[39;00m\n\u001b[0;32m     27\u001b[0m \u001b[38;5;124;03m\"\"\"\u001b[39;00m\n",
      "\u001b[1;31mValueError\u001b[0m: invalid literal for int() with base 10: ''"
     ]
    }
   ],
   "source": [
    "# 파일 읽기을 통한 예제 입력 \n",
    "import sys\n",
    "sys.stdin = open(\"./input.txt\",\"r\") \n",
    "\n",
    "# 언패킹: 리스트의 개수만큼 변수가 존재하면 원소 위치에 맞는 변수에 값이 저장\n",
    "N, M = list(map(int, input().split(\" \")))\n",
    "print(N, M)\n",
    "\n",
    "# 3. 이차원 리스트를 입력받는 경우\n",
    "# 세로 길이(N)가 꼭 필요하다.\n",
    "# 일차원 리스트들을 저장할 빈 리스트 변수\n",
    "matrixA = []\n",
    "for _ in range(N):\n",
    "    \"\"\"\n",
    "    1 1 1\n",
    "    2 2 2\n",
    "    0 1 0\n",
    "    \"\"\"\n",
    "    input_list = input().split(\" \") # 결과 예시 : [\"1\", \"1\", \"1\"]\n",
    "    number_list = list(map(int, input_list)) # 결과 예시 : [1, 1, 1]\n",
    "    matrixA.append(number_list)\n",
    "    \"\"\"\n",
    "    matrixA 결과 예시\n",
    "    [[1, 1, 1]\n",
    "    [2, 2, 2]\n",
    "    [0, 1, 0]]\n",
    "    \"\"\"\n",
    "\n",
    "matrixB = []\n",
    "for _ in range(N):\n",
    "    input_list = input().split(\" \") # 결과 예시 : [\"1\", \"1\", \"1\"]\n",
    "    number_list = list(map(int, input_list)) # 결과 예시 : [1, 1, 1]\n",
    "    matrixB.append(number_list)\n"
   ]
  },
  {
   "cell_type": "code",
   "execution_count": 4,
   "metadata": {},
   "outputs": [
    {
     "name": "stdout",
     "output_type": "stream",
     "text": [
      "10 5\n",
      "[1, 10, 4, 9, 2, 3, 8, 5, 7, 6]\n"
     ]
    }
   ],
   "source": [
    "\"\"\"\n",
    "첫째 줄에 N과 X가 주어진다. (1 ≤ N, X ≤ 10,000)\n",
    "\n",
    "둘째 줄에 수열 A를 이루는 정수 N개가 주어진다. \n",
    "\"\"\"\n",
    "\n",
    "# 10 5\n",
    "# 두 개의 정수를 입력\n",
    "N, X = list(map(int, input().split(\" \")))\n",
    "print(N, X)\n",
    "\n",
    "# 1 10 4 9 2 3 8 5 7 6\n",
    "# 정수로 이루어진 리스트\n",
    "number_list = list(map(int, input().split(\" \")))\n",
    "print(number_list)"
   ]
  },
  {
   "cell_type": "code",
   "execution_count": 8,
   "metadata": {},
   "outputs": [
    {
     "name": "stdout",
     "output_type": "stream",
     "text": [
      "[1, 0, 1]\n"
     ]
    }
   ],
   "source": [
    "# 공백없이 2개이상의 숫자를 입력하는 경우\n",
    "\"\"\" 일차원 리스트\n",
    "101\n",
    "\"\"\"\n",
    "# 문자열 -> 리스트 형변환 : 각 문자를 원소로 가진 리스트를 생성\n",
    "number_list = list(map(int, list(input())))\n",
    "print(number_list)"
   ]
  },
  {
   "cell_type": "code",
   "execution_count": 12,
   "metadata": {},
   "outputs": [
    {
     "name": "stdout",
     "output_type": "stream",
     "text": [
      "문자를 찾지못했습니다.\n"
     ]
    }
   ],
   "source": [
    "# str.find(문자) / str.index(문자)\n",
    "# find(문자) : 문자를 못찾으면 -1 반환\n",
    "# index(문자) : 문자를 못찾으면 오류\n",
    "\n",
    "string = \"python\"\n",
    "word = \"a\"\n",
    "\n",
    "if string.find(word) != -1:\n",
    "    print(\"문자를 찾았습니다.\")\n",
    "\n",
    "elif string.find(word) == -1:\n",
    "    print(\"문자를 찾지못했습니다.\")"
   ]
  },
  {
   "cell_type": "code",
   "execution_count": 13,
   "metadata": {},
   "outputs": [
    {
     "name": "stdout",
     "output_type": "stream",
     "text": [
      "[1, 2, 3, 6, 8]\n"
     ]
    }
   ],
   "source": [
    "# 리스트 정렬\n",
    "number_list = [3,2,6,1,8]\n",
    "\n",
    "# 컨테이너 자료형 정렬 함수 sorted(컨테이너), 권장\n",
    "sorted_list = sorted(number_list) # 정렬한 결과를 반환\n",
    "\n",
    "print(sorted_list)\n",
    "\n",
    "# 리스트 정렬 메소드 list.sort(), 추천 X\n",
    "# number_list.sort() # 원본 리스트를 정렬"
   ]
  }
 ],
 "metadata": {
  "kernelspec": {
   "display_name": "Python 3",
   "language": "python",
   "name": "python3"
  },
  "language_info": {
   "codemirror_mode": {
    "name": "ipython",
    "version": 3
   },
   "file_extension": ".py",
   "mimetype": "text/x-python",
   "name": "python",
   "nbconvert_exporter": "python",
   "pygments_lexer": "ipython3",
   "version": "3.11.4"
  }
 },
 "nbformat": 4,
 "nbformat_minor": 2
}
