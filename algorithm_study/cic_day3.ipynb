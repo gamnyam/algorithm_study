{
 "cells": [
  {
   "cell_type": "code",
   "execution_count": 2,
   "metadata": {},
   "outputs": [
    {
     "name": "stdout",
     "output_type": "stream",
     "text": [
      "3\n"
     ]
    }
   ],
   "source": [
    "# def 함수명(매개변수들):\n",
    "def function(para1, para2):\n",
    "    total = para1 + para2\n",
    "    \n",
    "    return total\n",
    "\n",
    "total = function(1,2)\n",
    "\n",
    "print(total)\n",
    "\n",
    "# 매개변수 O, 반환값 O\n",
    "# 매개변수 O, 반환값 X\n",
    "# 매개변수 X, 반환값 O\n",
    "# 매개변수 X, 반환값 X"
   ]
  },
  {
   "cell_type": "code",
   "execution_count": 3,
   "metadata": {},
   "outputs": [
    {
     "name": "stdout",
     "output_type": "stream",
     "text": [
      "print() 함수는 반환값이 없는 함수\n",
      "None\n"
     ]
    }
   ],
   "source": [
    "variable = print(\"print() 함수는 반환값이 없는 함수\")\n",
    "print(variable)"
   ]
  },
  {
   "cell_type": "code",
   "execution_count": 3,
   "metadata": {},
   "outputs": [
    {
     "name": "stdout",
     "output_type": "stream",
     "text": [
      "3 3\n"
     ]
    }
   ],
   "source": [
    "# 중첩 반복문\n",
    "# 이차원 리스트의 순회를 위한 이중 반복문\n",
    "\n",
    "matrix = [\n",
    "    [1,2,3],\n",
    "    [4,5,6],\n",
    "    [7,8,9]\n",
    "]\n",
    "\n",
    "# 두 번의 인덱싱 통해 원소에 접근\n",
    "\n",
    "number = matrix[0][0]\n",
    "\n",
    "# 세로 길이(n, N)와 가로 길이(m, M)\n",
    "n = len(matrix)\n",
    "m = len(matrix[0])\n",
    "\n",
    "print(n, m)"
   ]
  },
  {
   "cell_type": "code",
   "execution_count": 4,
   "metadata": {},
   "outputs": [
    {
     "name": "stdout",
     "output_type": "stream",
     "text": [
      "1\n",
      "2\n",
      "3\n",
      "4\n",
      "5\n",
      "6\n",
      "7\n",
      "8\n",
      "9\n"
     ]
    }
   ],
   "source": [
    "# 인덱스 통한 순회\n",
    "for y in range(n) :\n",
    "    for x in range(m):\n",
    "        print(matrix[y][x])"
   ]
  },
  {
   "cell_type": "code",
   "execution_count": null,
   "metadata": {},
   "outputs": [],
   "source": []
  }
 ],
 "metadata": {
  "kernelspec": {
   "display_name": "project",
   "language": "python",
   "name": "python3"
  },
  "language_info": {
   "codemirror_mode": {
    "name": "ipython",
    "version": 3
   },
   "file_extension": ".py",
   "mimetype": "text/x-python",
   "name": "python",
   "nbconvert_exporter": "python",
   "pygments_lexer": "ipython3",
   "version": "3.11.9"
  }
 },
 "nbformat": 4,
 "nbformat_minor": 2
}
