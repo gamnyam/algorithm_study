{
 "cells": [
  {
   "cell_type": "markdown",
   "metadata": {},
   "source": [
    "# 복습\n",
    "# 이진 탐색 알고리즘은 정렬된 리스트 내에서!"
   ]
  },
  {
   "cell_type": "markdown",
   "metadata": {},
   "source": [
    "# 투 포인터 알고리즘\n",
    "\n",
    "포인터 = 인덱스\n"
   ]
  },
  {
   "cell_type": "code",
   "execution_count": 1,
   "metadata": {},
   "outputs": [
    {
     "name": "stdout",
     "output_type": "stream",
     "text": [
      "1 4\n",
      "2 3\n"
     ]
    }
   ],
   "source": [
    "numbers = [1,2,3,4,5]\n",
    "\n",
    "# 단순 이중 반복문을 통한 타겟 (두 수의 합) 탐색\n",
    "\n",
    "target = 7\n",
    "\n",
    "for i in range(len(numbers)) :\n",
    "    for j in range(i+1, len(numbers)) :\n",
    "        total = numbers[i] + numbers[j]\n",
    "        if total == target :\n",
    "            print(i,j)"
   ]
  },
  {
   "cell_type": "code",
   "execution_count": 7,
   "metadata": {},
   "outputs": [
    {
     "name": "stdout",
     "output_type": "stream",
     "text": [
      "1 4\n",
      "2 3\n"
     ]
    }
   ],
   "source": [
    "# 투 포인터를 활용한 타겟 탐색\n",
    "numbers = [1,2,3,4,5]\n",
    "\n",
    "left = 0\n",
    "right = len(numbers) - 1\n",
    "\n",
    "# left는 rigth보다 커지면 안된다.\n",
    "while left < right :\n",
    "    total = numbers[left] + numbers[right]\n",
    "\n",
    "    if total ==  target :\n",
    "        print(left, right)\n",
    "        left += 1 # right -= 1 # break를 안사용하는 이유 : 여러가지 경우의 수를 찾기 위해\n",
    "        \n",
    "    elif total < target :\n",
    "        left += 1\n",
    "\n",
    "    elif total > target :\n",
    "        right -= 1"
   ]
  },
  {
   "cell_type": "markdown",
   "metadata": {},
   "source": [
    "# 그래프"
   ]
  },
  {
   "cell_type": "code",
   "execution_count": 10,
   "metadata": {},
   "outputs": [],
   "source": [
    "# 방향이 있을 수도 없을 수도 있다.(단방향, 무방향(양방향))"
   ]
  },
  {
   "cell_type": "code",
   "execution_count": null,
   "metadata": {},
   "outputs": [],
   "source": [
    "# 행렬 : 이차원리스트\n",
    "# 인접행렬\n",
    "# 인접리스트 : 갈 수 있는 노드를 직접 설정\n",
    "\n",
    "# 차이 정도만 알아두기"
   ]
  },
  {
   "cell_type": "code",
   "execution_count": 1,
   "metadata": {},
   "outputs": [
    {
     "name": "stdout",
     "output_type": "stream",
     "text": [
      "[[0, 0, 0, 0, 0, 0, 0], [0, 0, 0, 0, 0, 0, 0], [0, 0, 0, 0, 0, 0, 0], [0, 0, 0, 0, 0, 0, 0], [0, 0, 0, 0, 0, 0, 0], [0, 0, 0, 0, 0, 0, 0], [0, 0, 0, 0, 0, 0, 0]]\n",
      "0 1\n",
      "1 2\n",
      "0 4\n",
      "4 1\n",
      "4 5\n",
      "3 6\n",
      "6 5\n",
      "[[0, 1, 0, 0, 1, 0, 0], [0, 0, 1, 0, 0, 0, 0], [0, 0, 0, 0, 0, 0, 0], [0, 0, 0, 0, 0, 0, 1], [0, 1, 0, 0, 0, 1, 0], [0, 0, 0, 0, 0, 0, 0], [0, 0, 0, 0, 0, 1, 0]]\n"
     ]
    }
   ],
   "source": [
    "import sys\n",
    "\n",
    "sys.stdin = open(\"input.txt\")\n",
    "input = sys.stdin.readline\n",
    "\n",
    "V = int(input()) # 정점의 수\n",
    "E = int(input()) # 간선의 수\n",
    "\n",
    "# 인접행렬을 표현하기 위한 리스트\n",
    "graph = []\n",
    "\n",
    "for _ in range(V):\n",
    "    graph.append([0] *  V) #0이 정점의 수만큼 채워진 리스트\n",
    "\n",
    "print(graph)  \n",
    "\n",
    "# 간선의 수 만큼 반복문 돌리기\n",
    "for _ in range(E):\n",
    "    # 두 개의 정수를 입력하는 코드\n",
    "    # 출발 정점 u, 도착 정점 v\n",
    "    u,v = list(map(int,input().split()))\n",
    "    print(u, v)\n",
    "    \n",
    "    # 행렬의 값을 1로 수정\n",
    "    graph[u][v] = 1\n",
    "print(graph)"
   ]
  },
  {
   "cell_type": "code",
   "execution_count": 8,
   "metadata": {},
   "outputs": [
    {
     "name": "stdout",
     "output_type": "stream",
     "text": [
      "[1, 4]\n",
      "[2]\n",
      "[]\n",
      "[6]\n",
      "[1, 5]\n",
      "[]\n",
      "[5]\n"
     ]
    }
   ],
   "source": [
    "# 인접 리스트\n",
    "sys.stdin = open(\"input.txt\")\n",
    "input = sys.stdin.readline\n",
    "\n",
    "V = int(input()) # 정점의 수\n",
    "E = int(input()) # 간선의 수\n",
    "\n",
    "# 인접 리스트를 표현할 리스트\n",
    "graph_2 = []\n",
    "\n",
    "for _ in range(V):\n",
    "    graph_2.append([])\n",
    "\n",
    "\n",
    "# 정점의 수 만큼 빈 리스트 필요\n",
    "\n",
    "for _ in range(E):\n",
    "    # 두 개의 정수를 입력하는 코드\n",
    "    # 출발 정점 u, 도착 정점 v\n",
    "    u,v = map(int,input().split())\n",
    "    graph_2[u].append(v)\n",
    "\n",
    "# graphp[u][v] = 1\n",
    "\n",
    "# 양방향 표현\n",
    "# graph[v][u] = 1\n",
    "# v번 -> u번 저장\n",
    "for row in graph_2:\n",
    "    print(row)"
   ]
  },
  {
   "cell_type": "code",
   "execution_count": null,
   "metadata": {},
   "outputs": [],
   "source": [
    "# 이 부분 녾쳤다다"
   ]
  },
  {
   "cell_type": "code",
   "execution_count": 4,
   "metadata": {},
   "outputs": [
    {
     "name": "stdout",
     "output_type": "stream",
     "text": [
      "[1, 4]\n",
      "[0, 2, 4]\n",
      "[1]\n",
      "[6]\n",
      "[0, 1, 5]\n",
      "[4, 6]\n",
      "[3, 5]\n"
     ]
    }
   ],
   "source": [
    "import sys\n",
    "sys.stdin = open(\"input.txt\")\n",
    "input = sys.stdin.readline\n",
    "\n",
    "# 정점의 수 V, 간선의 수 E 입력\n",
    "V = int(input())\n",
    "E = int(input())\n",
    "\n",
    "# 인접 리스트 저장 리스트\n",
    "graph_3 = []\n",
    "\n",
    "for _ in range(V):\n",
    "    graph_3.append([])\n",
    "\n",
    "# 간선 정보 입력\n",
    "for _ in range(E):\n",
    "    u, v = map(int, input().split())\n",
    "    # 양방향 간선\n",
    "    graph_3[u].append(v)\n",
    "    graph_3[v].append(u)\n",
    "\n",
    "# 인접 리스트 출력\n",
    "for row in graph_3:\n",
    "    print(row)"
   ]
  },
  {
   "cell_type": "code",
   "execution_count": 3,
   "metadata": {},
   "outputs": [
    {
     "name": "stdout",
     "output_type": "stream",
     "text": [
      "[1, 4]\n",
      "[0, 2, 4]\n",
      "[1]\n",
      "[6]\n",
      "[0, 1, 5]\n",
      "[4, 6]\n",
      "[3, 5]\n"
     ]
    }
   ],
   "source": [
    "import sys\n",
    "\n",
    "sys.stdin = open(\"input.txt\")\n",
    "input = sys.stdin.readline\n",
    "\n",
    "V = int(input())\n",
    "E = int(input())\n",
    "\n",
    "graph_4 = []\n",
    "\n",
    "# 정점 시작 번호가 1\n",
    "# 그러므로 리스트 범위를 0 ~ V 까지 고려한다.\n",
    "for _ in range(V):\n",
    "    graph_4.append([])\n",
    "\n",
    "for _ in range(E):\n",
    "    u, v = map(int, input().split())\n",
    "    graph_4[u].append(v)\n",
    "    graph_4[v].append(u)\n",
    "    \n",
    "\n",
    "for row in graph_4:\n",
    "    print(row)"
   ]
  },
  {
   "cell_type": "code",
   "execution_count": 5,
   "metadata": {},
   "outputs": [],
   "source": [
    "# DFS(완전탐색)\n",
    "\n",
    "# BFS(너비 우선 탐색) : 바로 옆에 인접한 노드만 우선 탐색"
   ]
  },
  {
   "cell_type": "code",
   "execution_count": 11,
   "metadata": {},
   "outputs": [
    {
     "name": "stdout",
     "output_type": "stream",
     "text": [
      "[[], [], [], [], [], [], []]\n",
      "[[1, 4], [2], [], [6], [1, 5], [], [5]]\n"
     ]
    }
   ],
   "source": [
    "import sys\n",
    "\n",
    "sys.stdin = open(\"input.txt\")\n",
    "input = sys.stdin.readline\n",
    "\n",
    "# 정점의 수, 간선의 수\n",
    "V = int(input())\n",
    "E = int(input())\n",
    "\n",
    "# 인접 리스트로 표현\n",
    "graph_5 = []\n",
    "\n",
    "for _ in range(V):\n",
    "    graph_5.append([])\n",
    "\n",
    "# graph = [[] * V] <- 비어있는 리스트 V만큼 생성. 이건 쓰면 안됨.\n",
    "\n",
    "print(graph_5)\n",
    "\n",
    "for _ in range(E):\n",
    "    s,e = list(map(int, input().split()))\n",
    "    # s 정점은 e정점으로 이동할 수 있다.(간선이 존재)\n",
    "    graph_5[s].append(e)\n",
    "print(graph_5)"
   ]
  },
  {
   "cell_type": "code",
   "execution_count": 15,
   "metadata": {},
   "outputs": [
    {
     "name": "stdout",
     "output_type": "stream",
     "text": [
      "0\n",
      "1\n",
      "4\n",
      "2\n",
      "5\n"
     ]
    }
   ],
   "source": [
    "# 큐를 쓰기 위해선 덱을 불러와서 덱 자료형을 가지고 큐를 활용\n",
    "# 리스트를 가지고 que를 구현하는건 비효율적이다. o(n) 시간복잡도\n",
    "\n",
    "from collections import deque\n",
    "\n",
    "queue = deque()\n",
    "\n",
    "# 방문 확인 변수(한번 방문한 집은 다시 방문 안하기위헤)\n",
    "visited = set()\n",
    "\n",
    "# 시작 노드 처리\n",
    "start = 0\n",
    "queue.append(start)\n",
    "\n",
    "# 시작 노드 방문 처리\n",
    "visited.add(start)\n",
    "\n",
    "\n",
    "while queue: # queue = [] 인 경우 False로\n",
    "# 조건식 :\n",
    "    node = queue.popleft()\n",
    "    print(node) # 탐색 기준이 되는 정점(노드)\n",
    "\n",
    "    # 다음 탐색 기준이 되는 인접한 노드들을 저장\n",
    "    for adj_node in graph_5[node] :\n",
    "        # adj_node를 방문했는지를 확인\n",
    "        if adj_node not in visited :\n",
    "            # adj_node는 방문한 적이 없다.\n",
    "            visited.add(adj_node)\n",
    "            # adj_node를 방문했다. 를 표시\n",
    "\n",
    "            queue.append(adj_node)"
   ]
  },
  {
   "cell_type": "code",
   "execution_count": 14,
   "metadata": {},
   "outputs": [
    {
     "data": {
      "text/plain": [
       "deque([1, 4])"
      ]
     },
     "execution_count": 14,
     "metadata": {},
     "output_type": "execute_result"
    }
   ],
   "source": [
    "queue"
   ]
  },
  {
   "cell_type": "code",
   "execution_count": null,
   "metadata": {},
   "outputs": [],
   "source": []
  }
 ],
 "metadata": {
  "kernelspec": {
   "display_name": "project",
   "language": "python",
   "name": "python3"
  },
  "language_info": {
   "codemirror_mode": {
    "name": "ipython",
    "version": 3
   },
   "file_extension": ".py",
   "mimetype": "text/x-python",
   "name": "python",
   "nbconvert_exporter": "python",
   "pygments_lexer": "ipython3",
   "version": "3.11.9"
  }
 },
 "nbformat": 4,
 "nbformat_minor": 2
}
