{
 "cells": [
  {
   "cell_type": "markdown",
   "metadata": {},
   "source": [
    "# 스택, 큐, 덱"
   ]
  },
  {
   "cell_type": "code",
   "execution_count": 35,
   "metadata": {},
   "outputs": [],
   "source": [
    "# 스택(LIFO, 후입 선출)\n",
    "# 큐(FIFO, 선입선출)"
   ]
  },
  {
   "cell_type": "code",
   "execution_count": 6,
   "metadata": {},
   "outputs": [],
   "source": [
    "# 덱 활용 예시\n",
    "# 회문검사 알고리즘\n",
    "# 이효리, 거꾸로해도 이효리\n",
    "# 토/ 마/ 토 => 앞 뒤의 글자가 같은지 확인"
   ]
  },
  {
   "cell_type": "code",
   "execution_count": 37,
   "metadata": {},
   "outputs": [],
   "source": [
    "# 마지막 위치가 아닌 특정 위치의 값을 넣고 뺄 때 insert, pop을 활용하는건 매우 비효율적\n",
    "# 비어있는 메모리를 채우기 위해, 앞으로 이동. 시간복잡도가 O(N)\n",
    "# 자료구현 큐 구현 시, 파이썬 리스트를 사용하면 안됨.\n",
    "# collection 모듈의 deque 객체 활용하여 구현"
   ]
  },
  {
   "cell_type": "code",
   "execution_count": 38,
   "metadata": {},
   "outputs": [
    {
     "data": {
      "text/plain": [
       "0"
      ]
     },
     "execution_count": 38,
     "metadata": {},
     "output_type": "execute_result"
    }
   ],
   "source": [
    "# 파이썬의 스택\n",
    "stack = list()\n",
    "\n",
    "stack.append(0) # 끝에 데이터를 삽입한다.\n",
    "stack.pop() # 끝에서 데이터를 삭제한다."
   ]
  },
  {
   "cell_type": "code",
   "execution_count": 17,
   "metadata": {},
   "outputs": [
    {
     "name": "stdout",
     "output_type": "stream",
     "text": [
      "deque([-1, 0])\n"
     ]
    }
   ],
   "source": [
    "# deque 객체 불러오기\n",
    "from collections import deque\n",
    "\n",
    "# deque 생성\n",
    "deque_ = deque()\n",
    "\n",
    "# 데이터 추가\n",
    "deque_.append(0)\n",
    "deque_.appendleft(-1)\n",
    "\n",
    "print(deque_)"
   ]
  },
  {
   "cell_type": "code",
   "execution_count": 18,
   "metadata": {},
   "outputs": [
    {
     "name": "stdout",
     "output_type": "stream",
     "text": [
      "deque([0])\n",
      "-1\n"
     ]
    }
   ],
   "source": [
    "# 데이터 제거\n",
    "number = deque_.popleft()\n",
    "print(deque_) # 남아있는거\n",
    "print(number) # 삭제된거"
   ]
  },
  {
   "cell_type": "code",
   "execution_count": 19,
   "metadata": {},
   "outputs": [],
   "source": [
    "# 원형버퍼\n",
    "# 포인터 : 메모리의 주소를 가르키는 데이터\n",
    "# head : 값이 빠져야할 주소를 가르키고 있음\n",
    "# tail : 값이 들어가야할 주소를 가르키고 있음\n",
    "# 기존의 리스트는 비어있는 메모리를 채우기 위해, 앞으로 이동. 시간복잡도가 O(N), 원형버퍼는 이런 문제 해결"
   ]
  },
  {
   "cell_type": "markdown",
   "metadata": {},
   "source": [
    "# 백준 10733\n",
    "가장 마지막에 나오는거 지워야함. 스택이란 개념을 기반으로 만들어진 문제"
   ]
  },
  {
   "cell_type": "markdown",
   "metadata": {},
   "source": [
    "```\n",
    "나코더 기장 재민이는 동아리 회식을 준비하기 위해서 장부를 관리하는 중이다.\n",
    "\n",
    "재현이는 재민이를 도와서 돈을 관리하는 중인데, 애석하게도 항상 정신없는 재현이는 돈을 실수로 잘못 부르는 사고를 치기 일쑤였다.\n",
    "\n",
    "재현이는 잘못된 수를 부를 때마다 0을 외쳐서, 가장 최근에 재민이가 쓴 수를 지우게 시킨다.\n",
    "\n",
    "재민이는 이렇게 모든 수를 받아 적은 후 그 수의 합을 알고 싶어 한다. 재민이를 도와주자!\n",
    "\n",
    "입력\n",
    "첫 번째 줄에 정수 K가 주어진다. (1 ≤ K ≤ 100,000)\n",
    "\n",
    "이후 K개의 줄에 정수가 1개씩 주어진다. 정수는 0에서 1,000,000 사이의 값을 가지며, 정수가 \"0\" 일 경우에는 가장 최근에 쓴 수를 지우고, 아닐 경우 해당 수를 쓴다.\n",
    "\n",
    "정수가 \"0\"일 경우에 지울 수 있는 수가 있음을 보장할 수 있다.\n",
    "\n",
    "출력\n",
    "재민이가 최종적으로 적어 낸 수의 합을 출력한다. 최종적으로 적어낸 수의 합은 231-1보다 작거나 같은 정수이다.\n",
    "\n",
    "예제 입력\n",
    "4\n",
    "3\n",
    "0\n",
    "4\n",
    "0\n",
    "```"
   ]
  },
  {
   "cell_type": "code",
   "execution_count": 28,
   "metadata": {},
   "outputs": [
    {
     "name": "stdout",
     "output_type": "stream",
     "text": [
      "7\n"
     ]
    }
   ],
   "source": [
    "import sys\n",
    "sys.stdin = open('input.txt')\n",
    "\n",
    "input = sys.stdin.readline\n",
    "\n",
    "K = int(input().strip())\n",
    "\n",
    "# 정수를 저장할 스택 생성성\n",
    "stack = list()\n",
    "\n",
    "for _ in range(K):\n",
    "    number = int(input().strip())\n",
    "    \n",
    "    #모든 수를 저장하는데 입력이 0이면 마지막 값을 삭제\n",
    "    if number == 0 :\n",
    "        stack.pop()\n",
    "    elif number != 0 :\n",
    "        stack.append(number)\n",
    "\n",
    "# 모든 수의 합을 출력\n",
    "# 리스트 원소들의 합을 반환하는 sum(리스트)\n",
    "print(sum(stack))"
   ]
  },
  {
   "cell_type": "markdown",
   "metadata": {},
   "source": [
    "# 백준 9012\n",
    "\n",
    "https://www.acmicpc.net/problem/9012\n",
    "\n",
    "```\n",
    "문제\n",
    "괄호 문자열(Parenthesis String, PS)은 두 개의 괄호 기호인 ‘(’ 와 ‘)’ 만으로 구성되어 있는 문자열이다. 그 중에서 괄호의 모양이 바르게 구성된 문자열을 올바른 괄호 문자열(Valid PS, VPS)이라고 부른다. 한 쌍의 괄호 기호로 된 “( )” 문자열은 기본 VPS 이라고 부른다. 만일 x 가 VPS 라면 이것을 하나의 괄호에 넣은 새로운 문자열 “(x)”도 VPS 가 된다. 그리고 두 VPS x 와 y를 접합(concatenation)시킨 새로운 문자열 xy도 VPS 가 된다. 예를 들어 “(())()”와 “((()))” 는 VPS 이지만 “(()(”, “(())()))” , 그리고 “(()” 는 모두 VPS 가 아닌 문자열이다. \n",
    "\n",
    "여러분은 입력으로 주어진 괄호 문자열이 VPS 인지 아닌지를 판단해서 그 결과를 YES 와 NO 로 나타내어야 한다. \n",
    "\n",
    "입력\n",
    "입력 데이터는 표준 입력을 사용한다. 입력은 T개의 테스트 데이터로 주어진다. 입력의 첫 번째 줄에는 입력 데이터의 수를 나타내는 정수 T가 주어진다. 각 테스트 데이터의 첫째 줄에는 괄호 문자열이 한 줄에 주어진다. 하나의 괄호 문자열의 길이는 2 이상 50 이하이다. \n",
    "\n",
    "출력\n",
    "출력은 표준 출력을 사용한다. 만일 입력 괄호 문자열이 올바른 괄호 문자열(VPS)이면 “YES”, 아니면 “NO”를 한 줄에 하나씩 차례대로 출력해야 한다. \n",
    "\n",
    "예제 입력 1 \n",
    "6\n",
    "(())())\n",
    "(((()())()\n",
    "(()())((()))\n",
    "((()()(()))(((())))()\n",
    "()()()()(()()())()\n",
    "(()((())()(\n",
    "예제 출력 1 \n",
    "NO\n",
    "NO\n",
    "YES\n",
    "NO\n",
    "YES\n",
    "NO\n",
    "```"
   ]
  },
  {
   "cell_type": "code",
   "execution_count": 52,
   "metadata": {},
   "outputs": [],
   "source": [
    "# 괄호 검사는 스택 활용\n",
    "# 여는 괄호 => 스택에 저장\n",
    "# 닫는 괄호 => 확인용\n",
    "# 스택 마지막 값을 확인 후 남아있는 여는 소괄호가 없으면 규칙에 맞지않는 문자열로 판단\n",
    "# ())(() : 이런 경우 카운팅 하는 방법으로는 해결하기 어려움"
   ]
  },
  {
   "cell_type": "code",
   "execution_count": 49,
   "metadata": {},
   "outputs": [
    {
     "name": "stdout",
     "output_type": "stream",
     "text": [
      "NO\n",
      "NO\n",
      "YES\n",
      "NO\n",
      "YES\n",
      "NO\n"
     ]
    }
   ],
   "source": [
    "import sys\n",
    "sys.stdin = open('input.txt')\n",
    "\n",
    "import sys\n",
    "input = sys.stdin.readline\n",
    "\n",
    "# 테스트 케이스의 수 \n",
    "T = int(input())\n",
    "\n",
    "for _ in range(T):\n",
    "    # 괄호 문자열 입력\n",
    "    string = input()\n",
    "\n",
    "    # 스택 생성\n",
    "    stack = list()\n",
    "\n",
    "    # flag 변수\n",
    "    flag = False # 정상적일 땐 깃발을 내리고 비정상일 땐 깃발을 올림(True)\n",
    "\n",
    "    # 문자열 순회\n",
    "    for char in string:\n",
    "        # char가 ( 인지\n",
    "        if char == '(' :\n",
    "            stack.append(char)\n",
    "        # char가 ) 인지\n",
    "        elif char == ')':\n",
    "            # 스택에 '(' 가 있는지 없는지에 따라\n",
    "\n",
    "            # 있다면\n",
    "            if len(stack) !=0 and stack[-1] =='(':\n",
    "                stack.pop()\n",
    "\n",
    "            # 없다면\n",
    "            else :\n",
    "                flag = True\n",
    "\n",
    "    if flag == True or len(stack) != 0 : #소괄호가 남아있다면\n",
    "        print('NO')\n",
    "    else :\n",
    "        print('YES')"
   ]
  },
  {
   "cell_type": "code",
   "execution_count": 60,
   "metadata": {},
   "outputs": [],
   "source": [
    "# 스택에 들어올 애가 ( 이면\n",
    "    # 스택에 추가,\n",
    "# 스택에 들어올 애가 ) 이면\n",
    "    # 스택에 ( 이 있으면\n",
    "        # ( 지워져도됨\n",
    "    # 스택에 (이 없으면\n",
    "        # flag 깃발 들기\n",
    "\n",
    "# 최종적으로 NO인지 YES인지 확인"
   ]
  },
  {
   "cell_type": "markdown",
   "metadata": {},
   "source": [
    "# 프로그래머스\n",
    "## 같은 숫자는 싫어\n",
    "\n",
    "```\n",
    "문제 설명\n",
    "배열 arr가 주어집니다. 배열 arr의 각 원소는 숫자 0부터 9까지로 이루어져 있습니다. 이때, 배열 arr에서 연속적으로 나타나는 숫자는 하나만 남기고 전부 제거하려고 합니다. 단, 제거된 후 남은 수들을 반환할 때는 배열 arr의 원소들의 순서를 유지해야 합니다. 예를 들면,\n",
    "\n",
    "arr = [1, 1, 3, 3, 0, 1, 1] 이면 [1, 3, 0, 1] 을 return 합니다.\n",
    "arr = [4, 4, 4, 3, 3] 이면 [4, 3] 을 return 합니다.\n",
    "배열 arr에서 연속적으로 나타나는 숫자는 제거하고 남은 수들을 return 하는 solution 함수를 완성해 주세요.\n",
    "\n",
    "제한사항\n",
    "배열 arr의 크기 : 1,000,000 이하의 자연수\n",
    "배열 arr의 원소의 크기 : 0보다 크거나 같고 9보다 작거나 같은 정수\n",
    "```"
   ]
  },
  {
   "cell_type": "code",
   "execution_count": 2,
   "metadata": {},
   "outputs": [],
   "source": [
    "# 큐를 구현할 deque 객체 불러오기\n",
    "from collections import deque\n",
    "\n",
    "def solution(arr):\n",
    "    answer = []\n",
    "    arr = deque(arr)\n",
    "    \n",
    "    # popleft() 메서드로 값을 앞에서 꺼냄\n",
    "    number = arr.popleft() \n",
    "    # 가장 맨 앞 값을 새로운 빈 리스트에 추가\n",
    "    answer.append(number)\n",
    "    \n",
    "    # answer의 마지막 값과 arr의 맨 앞 값을 비교\n",
    "    # arr에 원소가 없을 때 까지 비교\n",
    "    \n",
    "    while len(arr) !=0 :\n",
    "        number = arr.popleft()\n",
    "        \n",
    "        if answer[-1] != number :\n",
    "            answer.append(number)\n",
    "            \n",
    "    \n",
    "    return answer"
   ]
  },
  {
   "cell_type": "code",
   "execution_count": 3,
   "metadata": {},
   "outputs": [
    {
     "data": {
      "text/plain": [
       "[1, 3, 0, 1]"
      ]
     },
     "execution_count": 3,
     "metadata": {},
     "output_type": "execute_result"
    }
   ],
   "source": [
    "solution([1,1,3,3,0,1,1])"
   ]
  },
  {
   "cell_type": "markdown",
   "metadata": {},
   "source": [
    "# 백준 11866\n",
    "요세푸스문제 -> 덱 가정해서 풀기"
   ]
  },
  {
   "cell_type": "code",
   "execution_count": null,
   "metadata": {},
   "outputs": [],
   "source": []
  }
 ],
 "metadata": {
  "kernelspec": {
   "display_name": "project",
   "language": "python",
   "name": "python3"
  },
  "language_info": {
   "codemirror_mode": {
    "name": "ipython",
    "version": 3
   },
   "file_extension": ".py",
   "mimetype": "text/x-python",
   "name": "python",
   "nbconvert_exporter": "python",
   "pygments_lexer": "ipython3",
   "version": "3.11.9"
  }
 },
 "nbformat": 4,
 "nbformat_minor": 2
}
