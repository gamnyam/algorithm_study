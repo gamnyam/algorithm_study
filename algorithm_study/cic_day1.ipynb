{
 "cells": [
  {
   "cell_type": "code",
   "execution_count": null,
   "id": "aadeb90d-1197-4840-a00d-cbbca8e6aee9",
   "metadata": {},
   "outputs": [],
   "source": [
    "#자바는 변수를 생성할 때, 자료형을 지정한다.\n",
    "# int number = 1;\n",
    "\n",
    "#자바 스크립트에서 변수를 생성할 때\n",
    "let number = 1\n",
    "const string= \"\"\n",
    "\n",
    "#파이썬은 변수를 생성할 때, 할당할 값만 지정."
   ]
  },
  {
   "cell_type": "markdown",
   "id": "5becfdac-436a-41d6-ac06-81218f2f2522",
   "metadata": {},
   "source": [
    "# 파이썬의 자료형\n",
    "- 숫자형(정수형, int)\n",
    "- 숫자형(실수형, float)\n",
    "- 문자열(str, string)\n",
    "- 문자열 포매터\n",
    "- 문자열 내부 특정 위치에 내가 원하는 표현식을 넣는 문법"
   ]
  },
  {
   "cell_type": "markdown",
   "id": "802acb5b-73c2-436a-b227-7dc2a5b688a6",
   "metadata": {},
   "source": [
    "문자열의 경우 정수형 형태의 값이 아니면 변환이 되지 않는다. 바꾸고싶으면 float으로 변환 후에 변환 가능."
   ]
  },
  {
   "cell_type": "code",
   "execution_count": 1,
   "id": "7873147e-4d1f-4522-9d20-b0a32f3f420b",
   "metadata": {},
   "outputs": [
    {
     "name": "stdout",
     "output_type": "stream",
     "text": [
      "1\n"
     ]
    }
   ],
   "source": [
    "print(int(1.0))"
   ]
  },
  {
   "cell_type": "code",
   "execution_count": 4,
   "id": "73bc38a5-d8e2-4242-98a1-9d76a2f0d7f6",
   "metadata": {},
   "outputs": [
    {
     "ename": "ValueError",
     "evalue": "invalid literal for int() with base 10: '1.0'",
     "output_type": "error",
     "traceback": [
      "\u001b[1;31m---------------------------------------------------------------------------\u001b[0m",
      "\u001b[1;31mValueError\u001b[0m                                Traceback (most recent call last)",
      "Cell \u001b[1;32mIn[4], line 1\u001b[0m\n\u001b[1;32m----> 1\u001b[0m \u001b[38;5;28mprint\u001b[39m(\u001b[38;5;28;43mint\u001b[39;49m\u001b[43m(\u001b[49m\u001b[38;5;124;43m\"\u001b[39;49m\u001b[38;5;124;43m1.0\u001b[39;49m\u001b[38;5;124;43m\"\u001b[39;49m\u001b[43m)\u001b[49m)\n",
      "\u001b[1;31mValueError\u001b[0m: invalid literal for int() with base 10: '1.0'"
     ]
    }
   ],
   "source": [
    "print(int(\"1.0\"))"
   ]
  },
  {
   "cell_type": "code",
   "execution_count": 5,
   "id": "5071d497-5021-4c04-a915-dd483e99c949",
   "metadata": {},
   "outputs": [
    {
     "name": "stdout",
     "output_type": "stream",
     "text": [
      "1\n"
     ]
    }
   ],
   "source": [
    "print(int(float(\"1.0\")))"
   ]
  },
  {
   "cell_type": "code",
   "execution_count": null,
   "id": "21670acb-0fa3-44d1-8775-eaa36d44976c",
   "metadata": {},
   "outputs": [],
   "source": [
    "# 실수형을 정수형으로 변환하면 내림이 발생"
   ]
  },
  {
   "cell_type": "code",
   "execution_count": 10,
   "id": "ffbcef4a-a10c-4e69-9853-49c9cb1fa305",
   "metadata": {},
   "outputs": [],
   "source": [
    "# 파이썬 동시할당\n",
    "a, b = 1, 2"
   ]
  },
  {
   "cell_type": "code",
   "execution_count": 7,
   "id": "1b64f8d1-52d3-4aa9-b92d-dddf1b060ebd",
   "metadata": {},
   "outputs": [
    {
     "data": {
      "text/plain": [
       "2"
      ]
     },
     "execution_count": 7,
     "metadata": {},
     "output_type": "execute_result"
    }
   ],
   "source": [
    "a"
   ]
  },
  {
   "cell_type": "code",
   "execution_count": 8,
   "id": "3a1df72d-ac4f-49fa-89b7-f715e81d8f94",
   "metadata": {},
   "outputs": [],
   "source": [
    "# 언패킹\n",
    "\n",
    "a, b, c = [1, 2, 3]"
   ]
  },
  {
   "cell_type": "code",
   "execution_count": 9,
   "id": "8ee2f442-5e73-4234-86a8-2865730bad45",
   "metadata": {},
   "outputs": [
    {
     "data": {
      "text/plain": [
       "2"
      ]
     },
     "execution_count": 9,
     "metadata": {},
     "output_type": "execute_result"
    }
   ],
   "source": [
    "b"
   ]
  },
  {
   "cell_type": "code",
   "execution_count": 12,
   "id": "42ae306c-13f8-47c6-9360-afb6a16ce716",
   "metadata": {},
   "outputs": [
    {
     "name": "stdin",
     "output_type": "stream",
     "text": [
      " 30\n"
     ]
    },
    {
     "data": {
      "text/plain": [
       "int"
      ]
     },
     "execution_count": 12,
     "metadata": {},
     "output_type": "execute_result"
    }
   ],
   "source": [
    "# 사용자 입력\n",
    "# 백준, SWEA -> 입력을 위한 코드 필요\n",
    "\n",
    "# 숫자가 n개 있을 때,\n",
    "# 테스트 케이스가 T개 있다.\n",
    "\n",
    "# 하나의 값에 대해 입력\n",
    "N = int(input())\n",
    "type(N)\n",
    "\n",
    "#입력으로 받은 데이터는 문자열(str)이다.\n"
   ]
  },
  {
   "cell_type": "code",
   "execution_count": 17,
   "id": "6fe0b9bb-ac81-4516-bcbb-73e041c6ea9d",
   "metadata": {},
   "outputs": [
    {
     "name": "stdout",
     "output_type": "stream",
     "text": [
      "True\n",
      "False\n",
      "0\n",
      "8\n",
      "1\n"
     ]
    }
   ],
   "source": [
    "print(True and True)\n",
    "print(True and False)\n",
    "print(1 and 0)\n",
    "print(8 or 1)  # 둘 다 참이면 앞에 있는 것\n",
    "print(2 and 1) #둘 다 참이면 뒤에 있는 것"
   ]
  },
  {
   "cell_type": "markdown",
   "id": "f1245dbf-4d06-4aff-bd74-b648176fb44a",
   "metadata": {},
   "source": [
    "# 반복 가능한(iterable) 자료형"
   ]
  },
  {
   "cell_type": "code",
   "execution_count": 57,
   "id": "7826a594-8d6b-4b8f-912f-3b9f65105ca7",
   "metadata": {},
   "outputs": [],
   "source": [
    "# 컨테이너 자료형\n",
    "# 리스트, 문자열, 튜플, range\n",
    "\n",
    "# 파이썬 리스트(list), 자바스크립트 배열(array)\n",
    "# 파이썬 리스트 : 동적 배열을 기반으로 만든 자료형"
   ]
  },
  {
   "cell_type": "code",
   "execution_count": 28,
   "id": "617c1d64-8fe7-4d0e-bfeb-55f763b8d166",
   "metadata": {},
   "outputs": [],
   "source": [
    "# 파이썬 리스트 생성은 대괄호를 이용해\n",
    "# 리스트 내부의 원소들은 쉼표로 구분해서 작성\n",
    "\n",
    "# 원소 추가/삭제\n",
    "# 추가 리스트.append(값)\n",
    "\n",
    "list_1 = []\n",
    "list_1.append(1)\n",
    "\n",
    "# 한 번에 하나의 값만 추가할 수 있다.\n",
    "\n",
    "# 한 번에 여러 개의 값을 추가하고 싶은 경우\n",
    "# 리스트에 다른 리스트의 원소를 추가하는 메서드\n",
    "list_2 = []\n",
    "list_2.extend([1,3,5,6,[1,3,5]])"
   ]
  },
  {
   "cell_type": "code",
   "execution_count": 29,
   "id": "60647ff5-d779-4015-83fb-7e21cb86ee47",
   "metadata": {},
   "outputs": [
    {
     "data": {
      "text/plain": [
       "[1, 3, 5, 6, [1, 3, 5]]"
      ]
     },
     "execution_count": 29,
     "metadata": {},
     "output_type": "execute_result"
    }
   ],
   "source": [
    "list_2"
   ]
  },
  {
   "cell_type": "code",
   "execution_count": 30,
   "id": "eafac24b-d8ab-4db2-a0fb-d1702d1cc06c",
   "metadata": {},
   "outputs": [
    {
     "data": {
      "text/plain": [
       "[1, 3, 5, 6, [1, 3, 5], 1, 3, 5, 6, [1, 3, 5], 1, 3, 5, 6, [1, 3, 5]]"
      ]
     },
     "execution_count": 30,
     "metadata": {},
     "output_type": "execute_result"
    }
   ],
   "source": [
    "list_2*3"
   ]
  },
  {
   "cell_type": "code",
   "execution_count": 37,
   "id": "1a3bf099-e099-405b-9e1e-e6e21044ccf2",
   "metadata": {},
   "outputs": [],
   "source": [
    "list_ = list_1 + list_2 # expand와 유사\n",
    "\n",
    "# 연산자 사용 : 새로운 리스트 생성\n",
    "# expand : 기존의 리스트 수정"
   ]
  },
  {
   "cell_type": "code",
   "execution_count": 38,
   "id": "7a9cf10c-51f0-4085-9679-1bbf89d6bb30",
   "metadata": {},
   "outputs": [
    {
     "name": "stdout",
     "output_type": "stream",
     "text": [
      "1\n",
      "[1, 3, 5]\n"
     ]
    }
   ],
   "source": [
    "# 리스트의 인덱싱(원소에 대한 접근)\n",
    "\n",
    "# 파이썬 음수 인덱스\n",
    "print(list_[0])\n",
    "print(list_[-1])"
   ]
  },
  {
   "cell_type": "code",
   "execution_count": 44,
   "id": "a43a2183-107f-4225-9c23-b6a92cefe461",
   "metadata": {},
   "outputs": [
    {
     "data": {
      "text/plain": [
       "[1, 1, 3, 5, 6, [1, 3, 5]]"
      ]
     },
     "execution_count": 44,
     "metadata": {},
     "output_type": "execute_result"
    }
   ],
   "source": [
    "list_"
   ]
  },
  {
   "cell_type": "code",
   "execution_count": 39,
   "id": "d44a3b33-4bfe-415d-bb4b-1d6a9feeb03f",
   "metadata": {},
   "outputs": [],
   "source": [
    "end_index = len(list_)"
   ]
  },
  {
   "cell_type": "code",
   "execution_count": 40,
   "id": "6dc287f5-97eb-4967-9e8e-b1e329f4667a",
   "metadata": {},
   "outputs": [
    {
     "data": {
      "text/plain": [
       "6"
      ]
     },
     "execution_count": 40,
     "metadata": {},
     "output_type": "execute_result"
    }
   ],
   "source": [
    "end_index"
   ]
  },
  {
   "cell_type": "code",
   "execution_count": 41,
   "id": "3cd9d447-d49a-4e0a-8b28-bcd548a3ff5d",
   "metadata": {},
   "outputs": [],
   "source": [
    "# 파이썬 리스트 슬라이싱 [start : end : step]"
   ]
  },
  {
   "cell_type": "code",
   "execution_count": 43,
   "id": "d218ca76-b5ac-4c39-878a-7abb393323a3",
   "metadata": {},
   "outputs": [
    {
     "name": "stdout",
     "output_type": "stream",
     "text": [
      "[1, 1, 3]\n"
     ]
    }
   ],
   "source": [
    "print(list_[0:3])"
   ]
  },
  {
   "cell_type": "code",
   "execution_count": 56,
   "id": "cad213b1-ff10-4ed0-a681-f0306e215b08",
   "metadata": {},
   "outputs": [
    {
     "name": "stdout",
     "output_type": "stream",
     "text": [
      "[3, 4]\n",
      "[]\n",
      "[5, 4, 3]\n"
     ]
    },
    {
     "data": {
      "text/plain": [
       "[5, 4, 3, 2, 1]"
      ]
     },
     "execution_count": 56,
     "metadata": {},
     "output_type": "execute_result"
    }
   ],
   "source": [
    "# 범위를 벗어난 슬라이싱\n",
    "list_[0:100:2]\n",
    "\n",
    "#음수 인덱스를 통해 슬라이싱\n",
    "list_3 = [1,2,3,4,5]\n",
    "print(list_3[-3:-1])\n",
    "\n",
    "# Q. 간격도 음수로 넣어야하는게 아닐까?\n",
    "# step은 간격을 더하게 됨.\n",
    "print(list_3[-3:-1:-1])\n",
    "\n",
    "# 음수로 슬라이싱을 하려면\n",
    "print(list_3[-1:-4:-1])\n",
    "\n",
    "# step이 음수면 반대로 분할이 된다.\n",
    "list_3[::-1]"
   ]
  },
  {
   "cell_type": "code",
   "execution_count": 68,
   "id": "5fad0d73-e9ae-456e-8839-35fff39325f8",
   "metadata": {},
   "outputs": [
    {
     "name": "stdout",
     "output_type": "stream",
     "text": [
      "[1, 2, 3]\n",
      "[0, 2, 99]\n"
     ]
    }
   ],
   "source": [
    "# 파이썬 리스트(참조 자료형)의 복사\n",
    "\n",
    "list_a = [1,2,3] \n",
    "list_b = list_a # 똑같은 리스트의 주소를 가지게 됨 => 얕은 복사\n",
    "print(list_b)\n",
    "\n",
    "list_a[0] = 0\n",
    "list_a[-1]=99\n",
    "print(list_a)"
   ]
  },
  {
   "cell_type": "code",
   "execution_count": 69,
   "id": "b1a20652-e08a-4df6-9876-552f450d4840",
   "metadata": {},
   "outputs": [
    {
     "name": "stdout",
     "output_type": "stream",
     "text": [
      "[0, 2, 99]\n"
     ]
    }
   ],
   "source": [
    "print(list_b) # 그래서 list_b도 바뀜"
   ]
  },
  {
   "cell_type": "code",
   "execution_count": 4,
   "id": "4af83efa-66b8-4afb-a8b7-745da0e1d470",
   "metadata": {},
   "outputs": [
    {
     "name": "stdout",
     "output_type": "stream",
     "text": [
      "[0, 2, 99]\n",
      "[1, 2, 3]\n"
     ]
    }
   ],
   "source": [
    "# 깊은 복사\n",
    "list_c = [1,2,3]\n",
    "# 슬라이싱은 새로운 리스트를 생성\n",
    "list_d = list_c[::]\n",
    "\n",
    "list_c[0] = 0\n",
    "list_c[-1]=99\n",
    "\n",
    "\n",
    "print(list_c)\n",
    "print(list_d)"
   ]
  },
  {
   "cell_type": "code",
   "execution_count": 5,
   "id": "ae2e75f5-26e3-4c97-8e9b-edbc668c9c38",
   "metadata": {},
   "outputs": [],
   "source": [
    "list_d = [1,3,5,6,2,3,6,8,9,3,4,5]"
   ]
  },
  {
   "cell_type": "code",
   "execution_count": 6,
   "id": "ac63ff2f-8f7c-4a99-8773-889f2e8a19c6",
   "metadata": {},
   "outputs": [
    {
     "data": {
      "text/plain": [
       "5"
      ]
     },
     "execution_count": 6,
     "metadata": {},
     "output_type": "execute_result"
    }
   ],
   "source": [
    "list_d.pop()"
   ]
  },
  {
   "cell_type": "code",
   "execution_count": 7,
   "id": "a7db7011-266f-48b7-8d79-b0af34cffc23",
   "metadata": {},
   "outputs": [
    {
     "data": {
      "text/plain": [
       "[1, 3, 5, 6, 2, 3, 6, 8, 9, 3, 4]"
      ]
     },
     "execution_count": 7,
     "metadata": {},
     "output_type": "execute_result"
    }
   ],
   "source": [
    "list_d"
   ]
  },
  {
   "cell_type": "code",
   "execution_count": 14,
   "id": "018e3dfe-a823-4540-9af5-1e41a111cda8",
   "metadata": {},
   "outputs": [
    {
     "name": "stdout",
     "output_type": "stream",
     "text": [
      "3\n",
      "1 2 3 45 6 7\n"
     ]
    }
   ],
   "source": [
    "# 반복 가능한 자료형 문자열\n",
    "string_ = \"1 2 3 4\"\n",
    "\n",
    "# 문자열도 인덱싱과 슬라이싱 가능\n",
    "print(string_[4])\n",
    "\n",
    "# 문자열은 원소의 수정, 추가, 삭제가 불가능하다.\n",
    "\n",
    "# 더하기 연산을 통해 추가하는 것처럼 보이게 할 수 있다. => 새로운 문자열을 생성\n",
    "string2 = \"5 6 7\"\n",
    "\n",
    "print(string_ + string2)"
   ]
  },
  {
   "cell_type": "code",
   "execution_count": 20,
   "id": "dc92cbff-01d2-488c-ac36-e3f648651827",
   "metadata": {},
   "outputs": [
    {
     "name": "stdout",
     "output_type": "stream",
     "text": [
      "['1', '3', '5', '6', '2', '4', '6', 'a', 'g']\n",
      "['1', '3', '5', '6', '2', '4', '6', 'a', 'g']\n"
     ]
    }
   ],
   "source": [
    "# 문자열 분할\n",
    "\n",
    "stra = \"1.3.5.6.2.4.6.a.g\"\n",
    "print(stra.split(\".\"))\n",
    "\n",
    "# 기준 문자열 생략 시 공백을 기준으로 분할\n",
    "strb = \"1 3 5 6 2 4 6 a g\"\n",
    "print(strb.split())"
   ]
  },
  {
   "cell_type": "code",
   "execution_count": 23,
   "id": "180c9d0d-e367-4803-a785-459595b7c078",
   "metadata": {},
   "outputs": [
    {
     "name": "stdout",
     "output_type": "stream",
     "text": [
      "1 2 <class 'str'>\n"
     ]
    },
    {
     "data": {
      "text/plain": [
       "3"
      ]
     },
     "execution_count": 23,
     "metadata": {},
     "output_type": "execute_result"
    }
   ],
   "source": [
    "inputs = \"1 2\"\n",
    "string_list = inputs.split()\n",
    "\n",
    "a,b = string_list\n",
    "print(a, b, type(b))\n",
    "\n",
    "# 더하고싶으면\n",
    "int(a) + int(b)"
   ]
  },
  {
   "cell_type": "code",
   "execution_count": 30,
   "id": "72cdcb88-232d-429a-b5b5-52c4ca4122f8",
   "metadata": {},
   "outputs": [
    {
     "name": "stdout",
     "output_type": "stream",
     "text": [
      "사랑,정직,믿음 <class 'str'>\n"
     ]
    }
   ],
   "source": [
    "# \"기준문자\".join(시퀀스 자료형 ex) 리스트)\n",
    "# 리스트 원소들을 기준 문자열로 구분해서 새로운 문자열을 생성\n",
    "\n",
    "string1 = \",\".join([\"사랑\",\"정직\",\"믿음\"])\n",
    "print(string1, type(string1))"
   ]
  },
  {
   "cell_type": "code",
   "execution_count": null,
   "id": "2c6ca28b-a623-4ebd-8176-830fe23340df",
   "metadata": {},
   "outputs": [],
   "source": []
  }
 ],
 "metadata": {
  "kernelspec": {
   "display_name": "Python 3 (ipykernel)",
   "language": "python",
   "name": "python3"
  },
  "language_info": {
   "codemirror_mode": {
    "name": "ipython",
    "version": 3
   },
   "file_extension": ".py",
   "mimetype": "text/x-python",
   "name": "python",
   "nbconvert_exporter": "python",
   "pygments_lexer": "ipython3",
   "version": "3.11.7"
  }
 },
 "nbformat": 4,
 "nbformat_minor": 5
}
