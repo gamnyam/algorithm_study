{
 "cells": [
  {
   "cell_type": "markdown",
   "metadata": {},
   "source": [
    "# 트리"
   ]
  },
  {
   "cell_type": "code",
   "execution_count": null,
   "metadata": {},
   "outputs": [],
   "source": [
    "# 트리는 사이클이 없는 비선형 자료 구조\n",
    "\n",
    "# 노드 : 데이터들이 저장된 공간, 영역\n",
    "\n",
    "# 노드-노드 연결하는 선 : 간선\n",
    "\n",
    "# 노드 n개, 간선 n-1개\n",
    "\n",
    "# 리프 노트(자식노드)\n",
    "# 루트노드(부모노드)\n",
    "\n",
    "# 높이 : 최상단과 최하단의 길이\n",
    "# 서브트리 : 트리 내부의 부분 트리"
   ]
  },
  {
   "cell_type": "markdown",
   "metadata": {},
   "source": [
    "#  해시\n",
    "\n",
    "일정한 크기로 변환시킴\n",
    "\n",
    "\"Hello\" => 해시함수 => 001  \n",
    "\"world\" => 해사함수 => 002\n",
    "\n",
    "패스워드 전환 시 해시함수 이용"
   ]
  },
  {
   "cell_type": "code",
   "execution_count": 2,
   "metadata": {},
   "outputs": [],
   "source": [
    "# 해시 테이블로 된 자료 주고 : O(1) 상수시간복잡도 가짐\n",
    "\n",
    "# apple => 해시함수 => 암호화 된 상태로 '키'가 됨\n",
    "# ex) xxxxxx : 사과\n",
    "\n",
    "# 키로 사용가능한 건 변경이 불가능간 자료형이어야한다.\n",
    "\n",
    "# 체이닝 : 해시함수로 변경한 값이 동일한 경우 충돌발생 -> 해시 충돌\n",
    "# 개방 주소법 : 충돌 발생 시 일정한 간격으로 이동하면서 빈 공간을 찾아 데이터 저장\n"
   ]
  },
  {
   "cell_type": "markdown",
   "metadata": {},
   "source": [
    "# 파이썬 해시"
   ]
  },
  {
   "cell_type": "markdown",
   "metadata": {},
   "source": [
    "### 딕셔너리\n",
    "\n",
    "- 딕셔너리 키는 변경이 불가능한 자료형\n",
    "- ex) 문자열, 튜플, 숫자\n",
    "- 중복된 키를 사용할 수 없음\n",
    "\n",
    "### 셋(set)\n",
    "- 셋의 원소는 변경이 불가능한 자료형\n",
    "- 중복 원소를 저장할 수 없다\n",
    "- 숫자는 항상 같은 순서인데, 문자열은 실행마다 순서가 다르게 나옴. 해시값이 다른게 원인이 아닐까 추측"
   ]
  },
  {
   "cell_type": "code",
   "execution_count": 5,
   "metadata": {},
   "outputs": [
    {
     "name": "stdout",
     "output_type": "stream",
     "text": [
      "1\n",
      "-4407170602990770067\n",
      "729121658488668598\n",
      "-2330559653600159774\n"
     ]
    }
   ],
   "source": [
    "# 해시 함수 hash()\n",
    "# 특정 값에 대한 해시값을 계산\n",
    "print(hash(1))\n",
    "\n",
    "# 일정한 길이의 숫자를 반환\n",
    "print(hash(\"1\"))\n",
    "print(hash(\"hello world\"))\n",
    "print(hash(\"hello\"))"
   ]
  },
  {
   "cell_type": "code",
   "execution_count": 10,
   "metadata": {},
   "outputs": [
    {
     "name": "stdout",
     "output_type": "stream",
     "text": [
      "-3550055125485641917\n"
     ]
    }
   ],
   "source": [
    "# 튜플(변경 불가능)\n",
    "print(hash((1,2)))"
   ]
  },
  {
   "cell_type": "code",
   "execution_count": 11,
   "metadata": {},
   "outputs": [
    {
     "ename": "TypeError",
     "evalue": "'builtin_function_or_method' object is not subscriptable",
     "output_type": "error",
     "traceback": [
      "\u001b[1;31m---------------------------------------------------------------------------\u001b[0m",
      "\u001b[1;31mTypeError\u001b[0m                                 Traceback (most recent call last)",
      "Cell \u001b[1;32mIn[11], line 2\u001b[0m\n\u001b[0;32m      1\u001b[0m \u001b[38;5;66;03m# 리스트(변경 가능)\u001b[39;00m\n\u001b[1;32m----> 2\u001b[0m \u001b[38;5;28mprint\u001b[39m((\u001b[38;5;28;43mhash\u001b[39;49m\u001b[43m[\u001b[49m\u001b[38;5;241;43m1\u001b[39;49m\u001b[43m,\u001b[49m\u001b[38;5;241;43m2\u001b[39;49m\u001b[43m]\u001b[49m))\n",
      "\u001b[1;31mTypeError\u001b[0m: 'builtin_function_or_method' object is not subscriptable"
     ]
    }
   ],
   "source": [
    "# 리스트(변경 가능) -> 딕셔너리의 key로도 사용불가\n",
    "print((hash[1,2]))"
   ]
  },
  {
   "cell_type": "code",
   "execution_count": null,
   "metadata": {},
   "outputs": [],
   "source": [
    "# 딕셔너리 활용법\n",
    "string = 'hello world'\n",
    "\n",
    "# 문자의 개수 카운팅\n",
    "dic = {\n",
    "    'h' : 1,\n",
    "    'e' : 1,\n",
    "    #...\n",
    "}\n",
    "\n",
    "# set 활용법\n",
    "# 중복 탐색\n",
    "# 리스트의 멤버십(in) 연산자 시간 복잡도\n",
    "# O(n)"
   ]
  },
  {
   "cell_type": "code",
   "execution_count": 13,
   "metadata": {},
   "outputs": [
    {
     "data": {
      "text/plain": [
       "{'h': 1, 'e': 1}"
      ]
     },
     "execution_count": 13,
     "metadata": {},
     "output_type": "execute_result"
    }
   ],
   "source": [
    "# defaultdict\n",
    "\n",
    "dic = {\n",
    "    'h' : 1,\n",
    "    'e' : 1,\n",
    "    #...\n",
    "}\n",
    "\n",
    "dic"
   ]
  },
  {
   "cell_type": "code",
   "execution_count": 16,
   "metadata": {},
   "outputs": [
    {
     "ename": "KeyError",
     "evalue": "'l'",
     "output_type": "error",
     "traceback": [
      "\u001b[1;31m---------------------------------------------------------------------------\u001b[0m",
      "\u001b[1;31mKeyError\u001b[0m                                  Traceback (most recent call last)",
      "Cell \u001b[1;32mIn[16], line 1\u001b[0m\n\u001b[1;32m----> 1\u001b[0m \u001b[43mdic\u001b[49m\u001b[43m[\u001b[49m\u001b[38;5;124;43m'\u001b[39;49m\u001b[38;5;124;43ml\u001b[39;49m\u001b[38;5;124;43m'\u001b[39;49m\u001b[43m]\u001b[49m \u001b[38;5;66;03m# key 값이 없으므로 오류 발생\u001b[39;00m\n",
      "\u001b[1;31mKeyError\u001b[0m: 'l'"
     ]
    }
   ],
   "source": [
    "dic['l'] # key 값이 없으므로 오류 발생"
   ]
  },
  {
   "cell_type": "code",
   "execution_count": 19,
   "metadata": {},
   "outputs": [
    {
     "name": "stdout",
     "output_type": "stream",
     "text": [
      "0\n"
     ]
    }
   ],
   "source": [
    "from collections import defaultdict\n",
    "dic = defaultdict(int)\n",
    "dic['h'] = 1\n",
    "dic ['e'] = 1\n",
    "\n",
    "print(dic['l']) # 존재하지 않는 키 지정시 기본값으로 지정된 0 출력"
   ]
  },
  {
   "cell_type": "code",
   "execution_count": 23,
   "metadata": {},
   "outputs": [
    {
     "name": "stdout",
     "output_type": "stream",
     "text": [
      "{'H': 1, 'e': 1, 'l': 3, 'o': 2, ' ': 1, 'W': 1, 'r': 1, 'd': 1}\n"
     ]
    }
   ],
   "source": [
    "# dictionary 활용 문자 개수 카운팅\n",
    "\n",
    "dic = dict()\n",
    "string = \"Hello World\"\n",
    "\n",
    "for char in string:\n",
    "    # 문자가 딕셔너리 키에 존재하지 않으면\n",
    "    if char not in dic.keys():\n",
    "        dic[char] = 1  # 문자 개수 카운트 1\n",
    "\n",
    "    # 문자가 딕셔너리 키에 존재하면\n",
    "    elif char in dic.keys():\n",
    "        dic[char] = dic[char] + 1  # 문자 개수 카운트 + 1\n",
    "\n",
    "\n",
    "print(dic)"
   ]
  },
  {
   "cell_type": "code",
   "execution_count": 22,
   "metadata": {},
   "outputs": [
    {
     "name": "stdout",
     "output_type": "stream",
     "text": [
      "defaultdict(<class 'int'>, {'H': 1, 'e': 1, 'l': 3, 'o': 2, ' ': 1, 'W': 1, 'r': 1, 'd': 1})\n"
     ]
    }
   ],
   "source": [
    "# defaultdict 활용 문자 개수 카운팅\n",
    "\n",
    "from collections import defaultdict\n",
    "\n",
    "\n",
    "# 기본값이 int인 딕셔너리 생성\n",
    "# int로 설정하면 default = 0\n",
    "dic = defaultdict(int)\n",
    "\n",
    "string = \"Hello World\"\n",
    "\n",
    "for char in string:\n",
    "    dic[char] = dic[char] + 1  # 문자 개수 카운트 + 1\n",
    "\n",
    "\n",
    "print(dic)\n"
   ]
  },
  {
   "cell_type": "markdown",
   "metadata": {},
   "source": [
    "# 프로그래머스\n",
    "## 한 번만 등장한 문자\n",
    "\n",
    "```\n",
    "문자열 s가 매개변수로 주어집니다. s에서 한 번만 등장하는 문자를 사전 순으로 정렬한 문자열을 return 하도록 solution 함수를 완성해보세요. 한 번만 등장하는 문자가 없을 경우 빈 문자열을 return 합니다.\n",
    "```"
   ]
  },
  {
   "cell_type": "code",
   "execution_count": 33,
   "metadata": {},
   "outputs": [],
   "source": [
    "from collections import defaultdict\n",
    "def solution(s):\n",
    "    answer = ''\n",
    "    dic = defaultdict(int)\n",
    "    \n",
    "    for char in s:\n",
    "        dic[char] = dic[char] + 1\n",
    "    \n",
    "    # value가 1인 key 탐색\n",
    "    \n",
    "    for key in dic :\n",
    "        # key : 문자, value : 문자의 개수\n",
    "        value = dic[key]\n",
    "        \n",
    "        if value == 1 :\n",
    "            answer += key\n",
    "            \n",
    "    # 문자열 정렬 sorted() 활용\n",
    "    # sorted(컨테이너 자료형)는정렬된 리스트를 반환 \n",
    "    answer = sorted(answer) \n",
    "    answer = \"\".join(answer)\n",
    "    \n",
    "    return answer"
   ]
  },
  {
   "cell_type": "markdown",
   "metadata": {},
   "source": [
    "# 백준 1764\n",
    "https://www.acmicpc.net/problem/1764\n",
    "```\n",
    "문제\n",
    "김진영이 듣도 못한 사람의 명단과, 보도 못한 사람의 명단이 주어질 때, 듣도 보도 못한 사람의 명단을 구하는 프로그램을 작성하시오.\n",
    "\n",
    "입력\n",
    "첫째 줄에 듣도 못한 사람의 수 N, 보도 못한 사람의 수 M이 주어진다. 이어서 둘째 줄부터 N개의 줄에 걸쳐 듣도 못한 사람의 이름과, N+2째 줄부터 보도 못한 사람의 이름이 순서대로 주어진다. 이름은 띄어쓰기 없이 알파벳 소문자로만 이루어지며, 그 길이는 20 이하이다. N, M은 500,000 이하의 자연수이다.\n",
    "\n",
    "듣도 못한 사람의 명단에는 중복되는 이름이 없으며, 보도 못한 사람의 명단도 마찬가지이다.\n",
    "\n",
    "예제 입력 1 \n",
    "3 4\n",
    "ohhenrie\n",
    "charlie\n",
    "baesangwook\n",
    "obama\n",
    "baesangwook\n",
    "ohhenrie\n",
    "clinton\n",
    "```"
   ]
  },
  {
   "cell_type": "code",
   "execution_count": 49,
   "metadata": {},
   "outputs": [
    {
     "name": "stdout",
     "output_type": "stream",
     "text": [
      "baesangwook\n",
      "ohhenrie\n"
     ]
    }
   ],
   "source": [
    "# 백준 파일입력 코드 작성\n",
    "import sys\n",
    "# 입력 방식을 파일 읽기로 대체\n",
    "sys.stdin = open('input.txt')\n",
    "\n",
    "# input() 함수보다 빠른 입력 방법\n",
    "\n",
    "import sys\n",
    "input = sys.stdin.readline\n",
    "\n",
    "# 공백을 기준으로 입력되는 2개의 정수\n",
    "# strip() : 문자열 양쪽의 공백, 개행문자 제거\n",
    "N, M = map(int, input().strip().split()) # 공백기준이므로 split() 사용 strip()은 개행문자 남아있으면 제거\n",
    "\n",
    "name_set = set()\n",
    "\n",
    "for _ in range(N) :\n",
    "    name = input().strip()\n",
    "    name_set.add(name)\n",
    "\n",
    "name_list = []\n",
    "\n",
    "for _ in range(M) :\n",
    "    name = input().strip()\n",
    "\n",
    "    if name in name_set :\n",
    "        name_list.append(name)\n",
    "\n",
    "count = len(name_list)\n",
    "\n",
    "sorted_list = sorted(name_list)\n",
    "\n",
    "for name in sorted_list :\n",
    "    print(name)\n",
    "\n",
    "# set을 list로 바꾸고 add를 append로 바꾸면 시간초과 오류남. list는 중복값을 확인하려면 리스트 전체를 순회해야하므로 시간복잡도 O(N)"
   ]
  },
  {
   "cell_type": "code",
   "execution_count": null,
   "metadata": {},
   "outputs": [],
   "source": []
  }
 ],
 "metadata": {
  "kernelspec": {
   "display_name": "project",
   "language": "python",
   "name": "python3"
  },
  "language_info": {
   "codemirror_mode": {
    "name": "ipython",
    "version": 3
   },
   "file_extension": ".py",
   "mimetype": "text/x-python",
   "name": "python",
   "nbconvert_exporter": "python",
   "pygments_lexer": "ipython3",
   "version": "3.11.9"
  }
 },
 "nbformat": 4,
 "nbformat_minor": 2
}
