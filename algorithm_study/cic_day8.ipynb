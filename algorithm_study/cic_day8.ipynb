{
 "cells": [
  {
   "cell_type": "code",
   "execution_count": 1,
   "metadata": {},
   "outputs": [],
   "source": [
    "# 정렬 알고리즘"
   ]
  },
  {
   "cell_type": "code",
   "execution_count": 2,
   "metadata": {},
   "outputs": [],
   "source": [
    "# 퀵정렬, 병합정렬 : 분할-정복 알고리즘의 한 종류\n",
    "# 많은 데이터를 한 번에 정렬하는게 목표가 아닌 작은 데이터들을 정렬하면서 다시 큰 데이터를 만들면 하나의 정렬된 데이터 완성 될 것"
   ]
  },
  {
   "cell_type": "markdown",
   "metadata": {},
   "source": [
    "# 병합 정렬\n",
    "리스트 내부는 이미 정렬되어있기 때문엔 리스트 내부에서는 확인 안함  \n",
    "분할과정 : log(n)\n",
    "병합 과정 : 각 단계별로 발생하므로 n log n"
   ]
  },
  {
   "cell_type": "markdown",
   "metadata": {},
   "source": [
    "# 퀵 정렬\n",
    "pivot(기준)을 잘못 잡으면(설정이 잘못된 경우) O(N^1=2)"
   ]
  },
  {
   "cell_type": "code",
   "execution_count": 13,
   "metadata": {},
   "outputs": [
    {
     "name": "stdout",
     "output_type": "stream",
     "text": [
      "['red', 'blue', 'apple', 'banana']\n"
     ]
    }
   ],
   "source": [
    "# key 인자를 활용한 sorted() 정렬\n",
    "\n",
    "words = ['apple','banana','red','blue']\n",
    "\n",
    "# 문자열 길이를 기준으로 정렬\n",
    "# 길이 len()\n",
    "\n",
    "sorted_words = sorted(words, key=len)\n",
    "print(sorted_words)"
   ]
  },
  {
   "cell_type": "code",
   "execution_count": 5,
   "metadata": {},
   "outputs": [
    {
     "name": "stdout",
     "output_type": "stream",
     "text": [
      "[[1, 2], [1, 2, 3], [4, 5, 6, 7]]\n"
     ]
    }
   ],
   "source": [
    "# 1차원 리스트의 길이를 기준으로 정렬\n",
    "\n",
    "matrix_ = [\n",
    "    [1,2,3],\n",
    "    [4,5,6,7,],\n",
    "    [1,2]\n",
    "  ]\n",
    "sorted_matrix = sorted(matrix_, key=len)\n",
    "print(sorted_matrix)"
   ]
  },
  {
   "cell_type": "code",
   "execution_count": 9,
   "metadata": {},
   "outputs": [
    {
     "name": "stdout",
     "output_type": "stream",
     "text": [
      "[[1, 2], [1, 2, 3], [4, 5, 6, 7]]\n"
     ]
    }
   ],
   "source": [
    "# 기본 sorted() 함수 적용\n",
    "\n",
    "matrix_2 = [\n",
    "    [1,2,3],\n",
    "    [4,5,6,7,],\n",
    "    [1,2]\n",
    "  ]\n",
    "sorted_matrix = sorted(matrix_2)\n",
    "print(sorted_matrix)"
   ]
  },
  {
   "cell_type": "code",
   "execution_count": 11,
   "metadata": {},
   "outputs": [
    {
     "name": "stdout",
     "output_type": "stream",
     "text": [
      "[[1, 0, 4], [5, 3, 1], [2, 4, 5]]\n"
     ]
    }
   ],
   "source": [
    "# 튜플의 두 번째 원소 기준 정렬\n",
    "matrix_3 = [\n",
    "    [2,4,5],\n",
    "    [1,0,4],\n",
    "    [5,3,1]\n",
    "]\n",
    "\n",
    "sorted_list = sorted(matrix_3, key = lambda x : (x[1]))\n",
    "print(sorted_list)"
   ]
  },
  {
   "cell_type": "code",
   "execution_count": 15,
   "metadata": {},
   "outputs": [],
   "source": [
    "# 딕셔너리 정렬"
   ]
  },
  {
   "cell_type": "code",
   "execution_count": 16,
   "metadata": {},
   "outputs": [],
   "source": [
    "dic = {1:'kiwi',\n",
    "       3:'apple',\n",
    "       2:'banana',}"
   ]
  },
  {
   "cell_type": "code",
   "execution_count": 18,
   "metadata": {},
   "outputs": [
    {
     "name": "stdout",
     "output_type": "stream",
     "text": [
      "[1, 2, 3]\n"
     ]
    }
   ],
   "source": [
    "# 기본 딕셔너리 정렬\n",
    "\n",
    "sorted_dic = sorted(dic)\n",
    "\n",
    "print(sorted_dic)\n",
    "\n",
    "# 그냥 딕셔너리를 정렬하면 값이 없어지고 키 기준으로 리스트 반환"
   ]
  },
  {
   "cell_type": "code",
   "execution_count": 19,
   "metadata": {},
   "outputs": [
    {
     "name": "stdout",
     "output_type": "stream",
     "text": [
      "dict_items([(1, 'kiwi'), (3, 'apple'), (2, 'banana')])\n"
     ]
    }
   ],
   "source": [
    "# 딕셔너리.items() : 딕셔너리 형태 {key:value} -> 튜플 형태 (key, value)\n",
    "\n",
    "dic_items = dic.items()\n",
    "print(dic_items)"
   ]
  },
  {
   "cell_type": "code",
   "execution_count": 21,
   "metadata": {},
   "outputs": [
    {
     "name": "stdout",
     "output_type": "stream",
     "text": [
      "{1: 'kiwi', 2: 'banana', 3: 'apple'}\n"
     ]
    }
   ],
   "source": [
    "# 딕셔너리에서 key를 기준으로 정렬하고 싶다면\n",
    "sorted_dic = dict(sorted(dic.items(), key = lambda x:x[0]))\n",
    "print(sorted_dic)"
   ]
  },
  {
   "cell_type": "code",
   "execution_count": 26,
   "metadata": {},
   "outputs": [
    {
     "name": "stdout",
     "output_type": "stream",
     "text": [
      "{3: 'apple', 2: 'banana', 1: 'kiwi'}\n"
     ]
    }
   ],
   "source": [
    "# 딕셔너리 value를 기준으로 정렬하고 싶다면\n",
    "sorted_dic_value = dict((sorted(dic.items(), key = lambda x:x[1]))) # 인덱스의 두 번째 자리 위치하므로 1\n",
    "print(sorted_dic_value)"
   ]
  },
  {
   "cell_type": "code",
   "execution_count": 28,
   "metadata": {},
   "outputs": [],
   "source": [
    "# 여러 개의 기준 정렬\n",
    "matrix = [\n",
    "    (1,0),\n",
    "    (3,0),\n",
    "    (2,0),\n",
    "    (0,1),\n",
    "    (1,1),\n",
    "]"
   ]
  },
  {
   "cell_type": "code",
   "execution_count": 33,
   "metadata": {},
   "outputs": [
    {
     "name": "stdout",
     "output_type": "stream",
     "text": [
      "[(1, 0), (2, 0), (3, 0), (0, 1), (1, 1)]\n"
     ]
    }
   ],
   "source": [
    "# 정렬 우선순위 1: 두 번째 원소, 2: 첫 번째 원소\n",
    "sorted_mat = sorted(matrix, key=lambda x:(x[1], x[0]))\n",
    "print(sorted_mat)"
   ]
  },
  {
   "cell_type": "code",
   "execution_count": 36,
   "metadata": {},
   "outputs": [
    {
     "name": "stdout",
     "output_type": "stream",
     "text": [
      "[(3, 0), (2, 0), (1, 0), (1, 1), (0, 1)]\n"
     ]
    }
   ],
   "source": [
    "# 정렬 우선 순위 1: 두 번쨰 원소, 2 : 첫 번쨰 원소(역순)\n",
    "sorted_mat2 = sorted(matrix, key=lambda x:(x[1], -x[0]))\n",
    "print(sorted_mat2)"
   ]
  },
  {
   "cell_type": "code",
   "execution_count": 38,
   "metadata": {},
   "outputs": [
    {
     "name": "stdout",
     "output_type": "stream",
     "text": [
      "[(3, 0), (2, 0), (1, 0), (1, 1), (0, 1)]\n"
     ]
    }
   ],
   "source": [
    "# 합 또는 차 기준으로 정렬 (두 번째 원소 - 첫 번째 원소 기준)\n",
    "sorted_mat_cha = sorted(matrix, key=lambda x:(x[1] - x[0]))\n",
    "print(sorted_mat_cha)"
   ]
  },
  {
   "cell_type": "code",
   "execution_count": 39,
   "metadata": {},
   "outputs": [
    {
     "name": "stdout",
     "output_type": "stream",
     "text": [
      "True\n"
     ]
    }
   ],
   "source": [
    "num_list = [1,2,3,4,5]\n",
    "print(5 in num_list) # 시간복잡도 O(n)"
   ]
  },
  {
   "cell_type": "markdown",
   "metadata": {},
   "source": [
    "# 이진 탐색 알고리즘"
   ]
  },
  {
   "cell_type": "code",
   "execution_count": 42,
   "metadata": {},
   "outputs": [],
   "source": [
    "# 정렬되어있지 않으면 이진탐색 알고리즘을 사용할 수 없음\n",
    "\n",
    "# log n : 동작의 횟수가 반씩 줄 때 나타나는 시간 복잡도(탐색범위가 반 씩 준다고 생각)"
   ]
  },
  {
   "cell_type": "code",
   "execution_count": 43,
   "metadata": {},
   "outputs": [
    {
     "name": "stdout",
     "output_type": "stream",
     "text": [
      "2\n"
     ]
    }
   ],
   "source": [
    "# bisect\n",
    "\n",
    "# bisect_left(list, item)\n",
    "\n",
    "import bisect\n",
    "\n",
    "list_ = [1, 3, 4, 4, 4, 5, 8, 9]\n",
    "item = 4\n",
    "\n",
    "index = bisect.bisect_left(list_, item)\n",
    "print(index)  # 2 (정렬 상태를 유지할 수 있는 상황에서 숫자 4를 삽입할 수 있는 가장 왼쪽 위치)"
   ]
  },
  {
   "cell_type": "code",
   "execution_count": 45,
   "metadata": {},
   "outputs": [
    {
     "name": "stdout",
     "output_type": "stream",
     "text": [
      "5\n"
     ]
    }
   ],
   "source": [
    "# bisect_right(list, item)\n",
    "\n",
    "import bisect\n",
    "\n",
    "list_ = [1, 3, 4, 4, 4, 5, 8, 9]\n",
    "item = 4\n",
    "\n",
    "index = bisect.bisect_right(list_, item)\n",
    "print(index)  # 5 (숫자 4를 삽입할 수 있는 가장 오른쪽 위치)"
   ]
  },
  {
   "cell_type": "markdown",
   "metadata": {},
   "source": [
    "## 시간 복잡도 순서\n",
    "- O(log n) (가장 빠름)  \n",
    "- O(n) (그 다음)  \n",
    "- O(n log n) (더 느림)  "
   ]
  },
  {
   "cell_type": "code",
   "execution_count": 49,
   "metadata": {},
   "outputs": [
    {
     "name": "stdout",
     "output_type": "stream",
     "text": [
      "3\n",
      "4\n"
     ]
    }
   ],
   "source": [
    "import bisect\n",
    "list_ = [1,4,6,8,9,12,13]\n",
    "\n",
    "left_index = bisect.bisect_left(list_, 8)\n",
    "print(left_index)\n",
    "\n",
    "right_index = bisect.bisect_right(list_, 8)\n",
    "print(right_index)\n",
    "\n",
    "# 비정렬된 리스트를 정렬을 해서 이진 탐색을 하는게 유리할까?\n",
    "# nlogn / logn -> nlogn(nlogn 워낙 큼)\n",
    "# 탐색을 n번 한다고 가정하면, 정렬(nlogn) 한 번, logn n번(nlong)\n",
    "\n",
    "# 비정렬된 리스트를 일반 탐색을 하는게 유리한가?\n",
    "# O(n), 탐색을 n번하면 O(n^2)\n",
    "\n",
    "# 결론 : 한 번만 하면 아래가 유리하지만 n번일 경우 위가 유리. 상황마다 다름."
   ]
  },
  {
   "cell_type": "code",
   "execution_count": 61,
   "metadata": {},
   "outputs": [
    {
     "name": "stdout",
     "output_type": "stream",
     "text": [
      "1 4\n",
      "값 찾았다\n"
     ]
    }
   ],
   "source": [
    "# bisect를 활용한 탐색(in) : 리스트에 있는 값\n",
    "\n",
    "target = 4\n",
    "left_index = bisect.bisect_left(list_, target)\n",
    "\n",
    "# 만약에\n",
    "if target == list_[left_index]:\n",
    "    print(left_index, list_[left_index])\n",
    "    print(\"값 찾았다\")\n",
    "else :\n",
    "    print(\"못 찾았다\")"
   ]
  },
  {
   "cell_type": "code",
   "execution_count": 58,
   "metadata": {},
   "outputs": [
    {
     "name": "stdout",
     "output_type": "stream",
     "text": [
      "못 찾았다\n"
     ]
    }
   ],
   "source": [
    "# bisect를 활용한 탐색(in) : 리스트에 없는 값\n",
    "\n",
    "# target = 4\n",
    "target = 2\n",
    "left_index = bisect.bisect_left(list_, target)\n",
    "\n",
    "# 만약에\n",
    "if target == list_[left_index]:\n",
    "    print(left_index, list_[left_index])\n",
    "    print(\"값 찾았다\")\n",
    "else :\n",
    "    print(\"못 찾았다\")"
   ]
  },
  {
   "cell_type": "code",
   "execution_count": 60,
   "metadata": {},
   "outputs": [
    {
     "ename": "IndexError",
     "evalue": "list index out of range",
     "output_type": "error",
     "traceback": [
      "\u001b[1;31m---------------------------------------------------------------------------\u001b[0m",
      "\u001b[1;31mIndexError\u001b[0m                                Traceback (most recent call last)",
      "Cell \u001b[1;32mIn[60], line 8\u001b[0m\n\u001b[0;32m      5\u001b[0m left_index \u001b[38;5;241m=\u001b[39m bisect\u001b[38;5;241m.\u001b[39mbisect_left(list_, target)\n\u001b[0;32m      7\u001b[0m \u001b[38;5;66;03m# 만약에\u001b[39;00m\n\u001b[1;32m----> 8\u001b[0m \u001b[38;5;28;01mif\u001b[39;00m target \u001b[38;5;241m==\u001b[39m \u001b[43mlist_\u001b[49m\u001b[43m[\u001b[49m\u001b[43mleft_index\u001b[49m\u001b[43m]\u001b[49m:\n\u001b[0;32m      9\u001b[0m     \u001b[38;5;28mprint\u001b[39m(left_index, list_[left_index])\n\u001b[0;32m     10\u001b[0m     \u001b[38;5;28mprint\u001b[39m(\u001b[38;5;124m\"\u001b[39m\u001b[38;5;124m값 찾았다\u001b[39m\u001b[38;5;124m\"\u001b[39m)\n",
      "\u001b[1;31mIndexError\u001b[0m: list index out of range"
     ]
    }
   ],
   "source": [
    "# bisect를 활용한 탐색(in) : 리스트의 범위를 벗어난 값\n",
    "\n",
    "# target = 4\n",
    "target = 14\n",
    "left_index = bisect.bisect_left(list_, target)\n",
    "\n",
    "# 만약에\n",
    "if target == list_[left_index]:\n",
    "    print(left_index, list_[left_index])\n",
    "    print(\"값 찾았다\")\n",
    "else :\n",
    "    print(\"못 찾았다\")"
   ]
  },
  {
   "cell_type": "code",
   "execution_count": 63,
   "metadata": {},
   "outputs": [
    {
     "name": "stdout",
     "output_type": "stream",
     "text": [
      "못 찾았다\n"
     ]
    }
   ],
   "source": [
    "# bisect를 활용한 탐색(in) : 리스트의 범위를 벗어난 값\n",
    "\n",
    "# target = 4\n",
    "target = 14\n",
    "left_index = bisect.bisect_left(list_, target)\n",
    "\n",
    "# 만약에\n",
    "# 삽입 인덱스의 길이가 리스트 길이와 다르고\n",
    "# 삽입 인덱스의 원소의 값과 타겟 값이 같으면\n",
    "if left_index != len(list_) and target == list_[left_index]:\n",
    "    print(left_index, list_[left_index])\n",
    "    print(\"값 찾았다\")\n",
    "else :\n",
    "    print(\"못 찾았다\")"
   ]
  },
  {
   "cell_type": "markdown",
   "metadata": {},
   "source": [
    "# 백준 1920\n",
    "https://www.acmicpc.net/problem/1920\n",
    "\n",
    "```\n",
    "문제\n",
    "N개의 정수 A[1], A[2], …, A[N]이 주어져 있을 때, 이 안에 X라는 정수가 존재하는지 알아내는 프로그램을 작성하시오.\n",
    "\n",
    "입력\n",
    "첫째 줄에 자연수 N(1 ≤ N ≤ 100,000)이 주어진다. 다음 줄에는 N개의 정수 A[1], A[2], …, A[N]이 주어진다. 다음 줄에는 M(1 ≤ M ≤ 100,000)이 주어진다. 다음 줄에는 M개의 수들이 주어지는데, 이 수들이 A안에 존재하는지 알아내면 된다. 모든 정수의 범위는 -231 보다 크거나 같고 231보다 작다.\n",
    "\n",
    "출력\n",
    "M개의 줄에 답을 출력한다. 존재하면 1을, 존재하지 않으면 0을 출력한다.\n",
    "```"
   ]
  },
  {
   "cell_type": "code",
   "execution_count": 5,
   "metadata": {},
   "outputs": [
    {
     "name": "stdout",
     "output_type": "stream",
     "text": [
      "[4, 1, 5, 2, 3] [1, 3, 7, 9, 5]\n",
      "1\n",
      "1\n",
      "0\n",
      "0\n",
      "1\n"
     ]
    }
   ],
   "source": [
    "import sys\n",
    "sys.stdin = open(\"input.txt\") # 표준 입력체계를 파일 입력 체계로 바꾸겠다\n",
    "\n",
    "#----------- 아래부터 제출\n",
    "\n",
    "# input 함수 코드 대체\n",
    "import sys\n",
    "input = sys.stdin.readline\n",
    "\n",
    "N = int(input().strip())\n",
    "\n",
    "# 정수가 저장된 리스트\n",
    "number_list = list(map(int, input().strip().split())) # map을 활용해 모든 부분에 int 적용\n",
    "\n",
    "M = int(input().strip())\n",
    "\n",
    "# 타겟 정수가 저장된 리스트\n",
    "target_list = list(map(int, input().strip().split()))\n",
    "\n",
    "print(number_list, target_list)\n",
    "\n",
    "# target들이 number_list에 존재하는가?\n",
    "for target in target_list :\n",
    "    if target in number_list: \n",
    "        print(1)\n",
    "    else:\n",
    "        print(0)\n",
    "\n",
    "# 이렇게 하면 시간초과가 난다. bisect(이진탐색) 활용해야함."
   ]
  },
  {
   "cell_type": "code",
   "execution_count": 9,
   "metadata": {},
   "outputs": [
    {
     "name": "stdout",
     "output_type": "stream",
     "text": [
      "1\n",
      "1\n",
      "0\n",
      "0\n",
      "1\n"
     ]
    }
   ],
   "source": [
    "import sys\n",
    "sys.stdin = open(\"input.txt\") # 표준 입력체계를 파일 입력 체계로 바꾸겠다\n",
    "\n",
    "#----------- 아래부터 제출\n",
    "\n",
    "# input 함수 코드 대체\n",
    "import bisect\n",
    "import sys\n",
    "input = sys.stdin.readline\n",
    "\n",
    "N = int(input().strip())\n",
    "\n",
    "# 정수가 저장된 리스트\n",
    "number_list = list(map(int, input().strip().split())) # map을 활용해 모든 부분에 int 적용\n",
    "\n",
    "M = int(input().strip())\n",
    "\n",
    "# 타겟 정수가 저장된 리스트\n",
    "target_list = list(map(int, input().strip().split()))\n",
    "\n",
    "# print(number_list) # [4, 1, 5, 2, 3]\n",
    "# print(target_list) # [1, 3, 7, 9, 5]\n",
    "\n",
    "# 이진 탐색은 정렬된 리스트에서만 사용 가능\n",
    "number_list = sorted(number_list)\n",
    "\n",
    "# target들이 number_list에 존재하는가?\n",
    "for target in target_list :\n",
    "    left_index = bisect.bisect_left(number_list, target)\n",
    "    if left_index < len(number_list) and target == number_list[left_index] :\n",
    "        print(1)\n",
    "    else:\n",
    "        print(0)\n"
   ]
  },
  {
   "cell_type": "code",
   "execution_count": null,
   "metadata": {},
   "outputs": [],
   "source": []
  }
 ],
 "metadata": {
  "kernelspec": {
   "display_name": "project",
   "language": "python",
   "name": "python3"
  },
  "language_info": {
   "codemirror_mode": {
    "name": "ipython",
    "version": 3
   },
   "file_extension": ".py",
   "mimetype": "text/x-python",
   "name": "python",
   "nbconvert_exporter": "python",
   "pygments_lexer": "ipython3",
   "version": "3.11.9"
  }
 },
 "nbformat": 4,
 "nbformat_minor": 2
}
