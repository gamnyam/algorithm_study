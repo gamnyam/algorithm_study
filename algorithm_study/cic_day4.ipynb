{
 "cells": [
  {
   "cell_type": "markdown",
   "metadata": {},
   "source": [
    "백준 알고리즘 학습 -> 입력 받는 코드 필요\n",
    "\n",
    "import sys\n",
    "\n",
    "input의 경우 입력이 많을 경우 시간 초과가 발생할 수도 있음.\n",
    "-> sys.stdin.readline() 사용\n",
    "\n",
    "\\n을 포함하므로 strip() 메서드로 제거\n",
    "\n",
    "n = int(sys.stdin.readline().sttrip())\n",
    "\n",
    "*7576번 토마토"
   ]
  },
  {
   "cell_type": "code",
   "execution_count": 30,
   "metadata": {},
   "outputs": [
    {
     "name": "stdout",
     "output_type": "stream",
     "text": [
      "8\n"
     ]
    }
   ],
   "source": [
    "a, b = list(map(int, input().split()))\n",
    "\n",
    "print(a + b)"
   ]
  },
  {
   "cell_type": "code",
   "execution_count": 12,
   "metadata": {},
   "outputs": [
    {
     "name": "stdout",
     "output_type": "stream",
     "text": [
      "6\n"
     ]
    }
   ],
   "source": [
    "import sys\n",
    "\n",
    "sys.stdin = open('./input.txt','r')\n",
    "\n",
    "# 우리가 입력할 걸 파이썬이 대신 입력받음\n",
    "# 백준에 제출할 땐 이부분 지우고 이 아래부터 제출\n",
    "\n",
    "a, b = list(map(int, sys.stdin.readline().strip().split()))\n",
    "# readline인 input()에서 처럼 입력하세요. 이런 문구는 입력할 수 없음.\n",
    "# 기능이 빠진 만큼 속도는 빠름\n",
    "\n",
    "print(a + b)"
   ]
  },
  {
   "cell_type": "markdown",
   "metadata": {},
   "source": [
    "# 시간복잡도"
   ]
  },
  {
   "cell_type": "code",
   "execution_count": null,
   "metadata": {},
   "outputs": [],
   "source": [
    "# 빅오 표기법 : 최악의 경우"
   ]
  },
  {
   "cell_type": "code",
   "execution_count": null,
   "metadata": {},
   "outputs": [],
   "source": [
    "# 탐색 알고리즘\n",
    "\n",
    "list_1 = [1,2,3,4,5,6,7,8,9,10]\n",
    "target = 1\n",
    "\n",
    "# 최선의 경우 : 1번 만에 찾음.\n",
    "# 최악의 경우 : 원소를 모두 탐색함.\n",
    "\n",
    "for element in list_1 :\n",
    "    if target == element:\n",
    "        print(\"target을 찾았습니다.\")\n",
    "        break\n"
   ]
  },
  {
   "cell_type": "code",
   "execution_count": null,
   "metadata": {},
   "outputs": [],
   "source": [
    "# 상수 시간 복잡도\n",
    "list_2 = list(range(10**6))\n",
    "print(list_2[10**6 - 1])\n",
    "\n",
    "# 로그 시간 복잡도 : 반씩 탐색해서 확인할 범위를 줄임\n",
    "\n",
    "# 선형 시간 복잡도 : 반복문을 한번 돌린다\n",
    "\n",
    "# 제곱 시간 복잡도 : 이중 반복문\n",
    "\n",
    "# 지수시간복잡도를 느리다고 표현\n",
    "\n",
    "# 주의해야할 메서드\n",
    "# pop, insert : 특정 위치에 값을 빼고 넣는건 O(n)의 시간복잡도를 가짐 -> 비효율적"
   ]
  },
  {
   "cell_type": "code",
   "execution_count": 17,
   "metadata": {},
   "outputs": [
    {
     "name": "stdout",
     "output_type": "stream",
     "text": [
      "8000056\n",
      "8000040\n"
     ]
    }
   ],
   "source": [
    "list_3 = [1] * (10**6)\n",
    "print(sys.getsizeof(list_3))\n",
    "\n",
    "tuple_3 = tuple(list_3)\n",
    "print(sys.getsizeof(tuple_3)) # 튜플은 여유공간을 만들 필요가 없어서 리스트보다 더 적은 메모리 차지"
   ]
  },
  {
   "cell_type": "code",
   "execution_count": null,
   "metadata": {},
   "outputs": [],
   "source": [
    "# 동적배열\n",
    "# 새로운 배열을 만들 때 충분히 많은 크기를 미리 만들어둠\n",
    "# 원래는 만들 때 마다 O(n) 걸리는데 미리 만들어놔서 조금 줄일 수 있음"
   ]
  },
  {
   "cell_type": "code",
   "execution_count": 18,
   "metadata": {},
   "outputs": [],
   "source": [
    "# 셀 채우기\n",
    "\n",
    "import time\n",
    "\n",
    "list_5 = [1] * 10 ** 6\n",
    "\n",
    "\n",
    "# 앞에서 값을 빼는 코드 => O(n) => 가능하면 사용하지 않는게 좋음\n",
    "\n",
    "\n",
    "# array[1,2,3,4]\n",
    "\n",
    "# 연결 리스트"
   ]
  },
  {
   "cell_type": "code",
   "execution_count": 22,
   "metadata": {},
   "outputs": [
    {
     "name": "stdout",
     "output_type": "stream",
     "text": [
      "0\n",
      "[1, 2, 3]\n",
      "6\n",
      "1\n",
      "[2, 3, 4]\n",
      "9\n",
      "2\n",
      "[3, 4, 5]\n",
      "12\n"
     ]
    }
   ],
   "source": [
    "# 구간합 알고리즘\n",
    "\n",
    "# 구간의 길이\n",
    "\n",
    "k = 3\n",
    "numbers = [1,2,3,4,5]\n",
    "\n",
    "# 123, 234, 345 만들 수 있음\n",
    "\n",
    "for i in range(len(numbers) - k + 1) : # 구간 길이 벗어나지않는 range 구하는게 중요할 것\n",
    "    # i : 구간의 시작 좌표\n",
    "    print(i)\n",
    "\n",
    "    # 구간 길이 만큼의 리스트 슬라이싱\n",
    "    # split_list = numbers[i:i+k]\n",
    "\n",
    "    split_list = []\n",
    "    for j in range(i, i+k):\n",
    "        split_list.append(numbers[j])\n",
    "\n",
    "    # 구간리스트\n",
    "    print(split_list)\n",
    "\n",
    "    print(sum(split_list))\n",
    "\n",
    "# 시간복잡도는 O(n) : 전체 리스트를 다 탐색하는건 아니기 때문에\n"
   ]
  },
  {
   "cell_type": "code",
   "execution_count": 25,
   "metadata": {},
   "outputs": [
    {
     "name": "stdout",
     "output_type": "stream",
     "text": [
      "6\n",
      "9\n",
      "12\n"
     ]
    }
   ],
   "source": [
    "# 더 효율적인 구간합 알고리즘을 위해 슬라이딩 윈도우 알고리즘\n",
    "# 중복된 영역 피하면서 구간합\n",
    "\n",
    "# 첫 번째 구간의 합\n",
    "nums = [1, 2, 3, 4, 5]  # 원본 리스트\n",
    "N = len(nums)  # 리스트 길이\n",
    "K = 3  # 구간 길이\n",
    "\n",
    "# 첫 번째 구간합\n",
    "window_sum = sum(nums[:K])\n",
    "print(window_sum)\n",
    "\n",
    "# N 번째 구간합\n",
    "for i in range(N - K):\n",
    "    # window_sum : 기존 구간합\n",
    "    # nums[i] : 앞 원소\n",
    "    # nums[i + K] : 새로운 원소\n",
    "    window_sum = window_sum - nums[i] + nums[i + K]\n",
    "    print(window_sum)\n",
    "\n",
    "# 슬라이딩 윈도우는 구간의 최대값/최소값을 구하는데 활용"
   ]
  },
  {
   "cell_type": "code",
   "execution_count": 26,
   "metadata": {},
   "outputs": [],
   "source": [
    "# 구간합 중 가장 큰 값을 구하라\n",
    "numbers3 = [3,-2,-4,-9,0,3,7,13,8,-3]\n",
    "N = 10\n",
    "K = 2\n",
    "\n",
    "# 슬라이딩 윈도우를 위한 첫 구간의 합\n",
    "split_sum3 = sum(numbers3[:K])\n",
    "# print(split_sum3)"
   ]
  },
  {
   "cell_type": "code",
   "execution_count": 28,
   "metadata": {},
   "outputs": [
    {
     "name": "stdout",
     "output_type": "stream",
     "text": [
      "14\n"
     ]
    }
   ],
   "source": [
    "# 1. 모든 구간 합을 리스트에 저장 후 max() 함수 사용(첫 번째 구간합도 저장해야함)\n",
    "answer_list = [split_sum3]\n",
    "# 기준 위치 i를 순회할 반복문\n",
    "# 0 -> N-K\n",
    "for i in range(0, N-K):\n",
    "    # print(i)\n",
    "    split_sum3 = split_sum3 - numbers3[i] + numbers3[i+K]\n",
    "    answer_list.append(split_sum3)\n",
    "\n",
    "# 리스트에 저장된 원소 중 가장 큰 값을 출력\n",
    "print(max(answer_list))"
   ]
  },
  {
   "cell_type": "code",
   "execution_count": 14,
   "metadata": {},
   "outputs": [],
   "source": [
    "# 2. 가장 큰 값을 갱신하는 방법(임의의 가장 큰 값)\n",
    "max_number = 0\n",
    "numbers = [1,2,3,4,5] # 양수만 저장된 리스트라고 가정\n",
    "for number in numbers:\n",
    "    if max_number < number :\n",
    "        max_number = number"
   ]
  },
  {
   "cell_type": "code",
   "execution_count": 20,
   "metadata": {},
   "outputs": [
    {
     "name": "stdout",
     "output_type": "stream",
     "text": [
      "inf -inf\n"
     ]
    }
   ],
   "source": [
    "# 음수가 저장된 리스트는?\n",
    "\n",
    "# 가장 큰 값, 양의 무한대대\n",
    "max_number = float('inf')\n",
    "\n",
    "# 가장 작은 값, 음의 무한대\n",
    "min_number = float('-inf')\n",
    "\n",
    "print(max_number, min_number)"
   ]
  },
  {
   "cell_type": "code",
   "execution_count": 34,
   "metadata": {},
   "outputs": [
    {
     "name": "stdout",
     "output_type": "stream",
     "text": [
      "21\n"
     ]
    }
   ],
   "source": [
    "# 백준 2559 문제\n",
    "\n",
    "import sys\n",
    "sys.stdin = open(\"./backjuninput.txt\")\n",
    "\n",
    "\n",
    "import sys # readline 쓸거면 import sys 써야함\n",
    "\n",
    "N, K = list(map(int, sys.stdin.readline().strip().split()))\n",
    "numbers = list(map(int, sys.stdin.readline().strip().split()))\n",
    "\n",
    "#N, K = list(map(int, input().split()))\n",
    "#numbers = list(map(int, input().split()))\n",
    "\n",
    "\n",
    "# 슬라이딩 윈도우를 위한 첫 구간의 합\n",
    "split_sum = sum(numbers[:K]) \n",
    "\n",
    "# 모든 구간 합을 리스트에 저장 후 max() 함수 사용\n",
    "# 첫 번째 구간합도 저장해야한다.\n",
    "answer_list = [split_sum]\n",
    "\n",
    "# 기준 위치 i 를 순회할 반복문\n",
    "# 0 -> N - K\n",
    "for i in range(0, N - K):\n",
    "    split_sum = split_sum - numbers[i] + numbers[i+K]\n",
    "    # 모든 구간 합을 저장한다.\n",
    "    answer_list.append(split_sum)\n",
    "\n",
    "# 리스트에 저장된 원소 중 가장 큰 값을 출력\n",
    "print(max(answer_list))\n"
   ]
  },
  {
   "cell_type": "markdown",
   "metadata": {},
   "source": [
    "# 복습\n",
    "- 리스트 : 데이터 삽입, 삭제 용이, O(1)\n",
    "- 배열 : 데이터 접근이 빠름, O(1)\n",
    "\n",
    "- 동적 배열 : 고정된 크기에서 벗어나 새로운 배열을 만들어 유동적인 크기를 가짐\n",
    "\n",
    "- 구간합\n",
    "- 문제마다 구간 길이가 바뀔 수 있음 -> 슬라이딩 윈도우 방식을 활용할 경우 비효율적 -> 누적합을 활용하여 해결"
   ]
  },
  {
   "cell_type": "code",
   "execution_count": 1,
   "metadata": {},
   "outputs": [],
   "source": [
    "import sys"
   ]
  },
  {
   "cell_type": "code",
   "execution_count": 3,
   "metadata": {},
   "outputs": [
    {
     "name": "stdout",
     "output_type": "stream",
     "text": [
      "9\n"
     ]
    }
   ],
   "source": [
    "# 누적합\n",
    "\n",
    "nums = [1, 2, 3, 4, 5]  # 원본 리스트\n",
    "N = len(nums)  # 리스트 길이\n",
    "\n",
    "# 누적합 저장 리스트\n",
    "S = [0] * N\n",
    "\n",
    "# 첫 번째 누적합\n",
    "S[0] = nums[0]\n",
    "\n",
    "# N 번째 누적합\n",
    "for i in range(1, N):\n",
    "    # S[i - 1] : 이전 위치의 누적합\n",
    "    # nums[i] : 새로운 원소\n",
    "    S[i] = S[i - 1] + nums[i]\n",
    "\n",
    "# 구간 쿼리 (i, j)\n",
    "i, j = 1, 3\n",
    "\n",
    "if i == 0:\n",
    "    print(S[j])\n",
    "else:\n",
    "    print(S[j] - S[i - 1])\n"
   ]
  },
  {
   "cell_type": "markdown",
   "metadata": {},
   "source": [
    "# 백준 11659\n",
    "\n",
    "https://www.acmicpc.net/problem/11659\n",
    "```\n",
    "문제\n",
    "수 N개가 주어졌을 때, i번째 수부터 j번째 수까지 합을 구하는 프로그램을 작성하시오.\n",
    "\n",
    "입력\n",
    "첫째 줄에 수의 개수 N과 합을 구해야 하는 횟수 M이 주어진다. 둘째 줄에는 N개의 수가 주어진다. 수는 1,000보다 작거나 같은 자연수이다. 셋째 줄부터 M개의 줄에는 합을 구해야 하는 구간 i와 j가 주어진다.\n",
    "\n",
    "출력\n",
    "총 M개의 줄에 입력으로 주어진 i번째 수부터 j번째 수까지 합을 출력한다.\n",
    "\n",
    "제한\n",
    "1 ≤ N ≤ 100,000\n",
    "1 ≤ M ≤ 100,000\n",
    "1 ≤ i ≤ j ≤ N\n",
    "예제 입력 1 \n",
    "5 3\n",
    "5 4 3 2 1\n",
    "1 3\n",
    "2 4\n",
    "5 5\n",
    "예제 출력 1 \n",
    "12\n",
    "9\n",
    "1\n",
    "```"
   ]
  },
  {
   "cell_type": "code",
   "execution_count": 5,
   "metadata": {},
   "outputs": [
    {
     "name": "stdout",
     "output_type": "stream",
     "text": [
      "12\n",
      "9\n",
      "1\n"
     ]
    }
   ],
   "source": [
    "import sys\n",
    "\n",
    "# N과 M 입력  5 3\n",
    "\n",
    "sys.stdin = open('input.txt')\n",
    "\n",
    "\n",
    "\n",
    "N, M = list(map(int,sys.stdin.readline().strip().split()))\n",
    "\n",
    "# 입력 값을 확인하는 코드\n",
    "# print(N, M)\n",
    "\n",
    "# N개의 수열 입력\n",
    "numbers = list(map(int, sys.stdin.readline().strip().split()))\n",
    "\n",
    "# 누적합 계산\n",
    "# 누적합을 저장한 새로운 리스트\n",
    "S = [0] * N\n",
    "\n",
    "# 첫 번째 누적합 저장\n",
    "S[0] = numbers[0]\n",
    "\n",
    "# 두 번째 ~ n번째 누적합을 계산\n",
    "for n in range(1, N):\n",
    "    S[n] = S[n-1] + numbers[n]\n",
    "\n",
    "# M개 줄 만큼 i와 j 입력\n",
    "for _ in range(M):\n",
    "    i, j = list(map(int, sys.stdin.readline().strip().split()))\n",
    "    \n",
    "    i = i - 1\n",
    "    j = j - 1\n",
    "    \n",
    "    # 누적합을 활용한 구간합 계산\n",
    "    if i != 0:\n",
    "        number = S[j] - S[i-1]\n",
    "        print(number)\n",
    "    \n",
    "    elif i == 0:\n",
    "        number = S[j]\n",
    "        print(number)"
   ]
  },
  {
   "cell_type": "code",
   "execution_count": null,
   "metadata": {},
   "outputs": [],
   "source": []
  }
 ],
 "metadata": {
  "kernelspec": {
   "display_name": "project",
   "language": "python",
   "name": "python3"
  },
  "language_info": {
   "codemirror_mode": {
    "name": "ipython",
    "version": 3
   },
   "file_extension": ".py",
   "mimetype": "text/x-python",
   "name": "python",
   "nbconvert_exporter": "python",
   "pygments_lexer": "ipython3",
   "version": "3.11.9"
  }
 },
 "nbformat": 4,
 "nbformat_minor": 2
}
