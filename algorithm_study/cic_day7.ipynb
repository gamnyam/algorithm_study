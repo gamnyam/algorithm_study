{
 "cells": [
  {
   "cell_type": "code",
   "execution_count": null,
   "metadata": {},
   "outputs": [],
   "source": [
    "# 완전 이진 트리 :마지막 레벨을 제외한 모든 노드가 완전? 다 채워져있음\n",
    "\n",
    "# 힙 : 완전 이진트리 구조\n",
    "\n",
    "# 루트에 최소값이 있어도 아래 노드들이 정리되어있는건 아님, 루트 노드만 봐야한다\n",
    "\n",
    "# 최대 힙 : 삽입된 데이터와 부모 노드 비교해서 삽입된 데이터가 더 크면 루트 노드로 이동"
   ]
  },
  {
   "cell_type": "code",
   "execution_count": null,
   "metadata": {},
   "outputs": [],
   "source": [
    "# 힙에서의 삭제 : 루트 노드의 삭제"
   ]
  },
  {
   "cell_type": "code",
   "execution_count": null,
   "metadata": {},
   "outputs": [],
   "source": [
    "# 최대값, 최소값 찾을 때 힙 : log(n)\n",
    "# 다른 방법은 정렬 [3,2,1,5] -> [1,2,3,5] : nlog(n)\n",
    "\n",
    "# 비교해야할 대상이 반씩 줄어들어 log(n) 이라고 할 수 있음"
   ]
  },
  {
   "cell_type": "markdown",
   "metadata": {},
   "source": [
    "# 힙 주요 함수"
   ]
  },
  {
   "cell_type": "markdown",
   "metadata": {},
   "source": [
    "```\n",
    "heapq.heapify(리스트) : 입력 리스트를 최소 힙 구조로 변환, 원본 리스트를 수정\n",
    "heapq.heappush(리스트, item) : 힙의 속성을 유지하면서 item 삽입, 원본 리스트 수정\n",
    "heapq.heappop(리스트) : 최소값을 제거하고 반환\n",
    "```"
   ]
  },
  {
   "cell_type": "code",
   "execution_count": 24,
   "metadata": {},
   "outputs": [
    {
     "name": "stdout",
     "output_type": "stream",
     "text": [
      "[2, 5, 1, 6, 7]\n",
      "[1, 5, 2, 6, 7]\n"
     ]
    }
   ],
   "source": [
    "# 힙 heapq 모듈 불러오기 : 최소힙을 기반으로 구현현\n",
    "import heapq\n",
    "\n",
    "heap = [2, 5, 1, 6, 7]\n",
    "print(heap)  # [2, 5, 1, 6, 7]\n",
    "\n",
    "# heapq.heapify(리스트) : 입력 리스트를 최소 힙 구조로 변환, 원본 리스트를 수정\n",
    "heapq.heapify(heap)\n",
    "print(heap)  # [1, 5, 2, 6, 7]"
   ]
  },
  {
   "cell_type": "code",
   "execution_count": 25,
   "metadata": {},
   "outputs": [
    {
     "name": "stdout",
     "output_type": "stream",
     "text": [
      "[1, 5, 2, 6, 7]\n",
      "[1, 5, 2, 6, 7, 10]\n",
      "[0, 5, 1, 6, 7, 10, 2]\n"
     ]
    }
   ],
   "source": [
    "import heapq\n",
    "\n",
    "heap = [2, 5, 1, 6, 7]\n",
    "\n",
    "heapq.heapify(heap)\n",
    "print(heap)  # [1, 5, 2, 6, 7]\n",
    "\n",
    "# heapq.heappush(리스트, item) : 힙의 속성을 유지하면서 item 삽입, 원본 리스트 수정\n",
    "\n",
    "heapq.heappush(heap, 10)  # [1, 5, 2, 6, 7, 10]\n",
    "print(heap)\n",
    "\n",
    "heapq.heappush(heap, 0)  # [0, 5, 1, 6, 7, 10, 2]\n",
    "print(heap)"
   ]
  },
  {
   "cell_type": "code",
   "execution_count": 27,
   "metadata": {},
   "outputs": [
    {
     "name": "stdout",
     "output_type": "stream",
     "text": [
      "[1, 5, 2, 7, 6]\n",
      "1 [2, 5, 6, 7]\n",
      "2 [5, 7, 6]\n",
      "5 [6, 7]\n"
     ]
    }
   ],
   "source": [
    "import heapq\n",
    "\n",
    "heap = [2, 5, 1, 7, 6]\n",
    "\n",
    "heapq.heapify(heap)\n",
    "print(heap)  # [1, 5, 2, 7, 6]\n",
    "\n",
    "\n",
    "# heapq.heappop(리스트) : 최소값을 제거하고 반환\n",
    "min_number = heapq.heappop(heap)  # 1 [2, 5, 6, 7]\n",
    "print(min_number, heap)\n",
    "\n",
    "min_number = heapq.heappop(heap)  # 2 [5, 7, 6]\n",
    "print(min_number, heap)\n",
    "\n",
    "min_number = heapq.heappop(heap)  # 5 [6, 7]\n",
    "print(min_number, heap)"
   ]
  },
  {
   "cell_type": "code",
   "execution_count": 11,
   "metadata": {},
   "outputs": [
    {
     "name": "stdout",
     "output_type": "stream",
     "text": [
      "[(-6, 6), (-2, 2), (-1, 1), (7, -7), (5, -5)]\n"
     ]
    }
   ],
   "source": [
    "import heapq\n",
    "\n",
    "numbers = [2, -5, 1, -7, 6]\n",
    "\n",
    "# 빈 리스트\n",
    "heap = []\n",
    "\n",
    "for number in numbers:\n",
    "    # (원본값 * -1, 원본값) 을 빈 리스트에 저장\n",
    "    heap.append((number * -1, number))\n",
    "\n",
    "# (원본값 *  -1, 원본값) 이 저장된 리스트 힙으로 변환\n",
    "heapq.heapify(heap)\n",
    "print(heap)  # [(-6, 6), (-2, 2), (-1, 1), (7, -7), (5, -5)]"
   ]
  },
  {
   "cell_type": "markdown",
   "metadata": {},
   "source": [
    "# 백준 1927 최소힙\n",
    "https://www.acmicpc.net/problem/1927\n",
    "\n",
    "```\n",
    "문제\n",
    "널리 잘 알려진 자료구조 중 최소 힙이 있다. 최소 힙을 이용하여 다음과 같은 연산을 지원하는 프로그램을 작성하시오.\n",
    "\n",
    "배열에 자연수 x를 넣는다.\n",
    "배열에서 가장 작은 값을 출력하고, 그 값을 배열에서 제거한다.\n",
    "프로그램은 처음에 비어있는 배열에서 시작하게 된다.\n",
    "\n",
    "입력\n",
    "첫째 줄에 연산의 개수 N(1 ≤ N ≤ 100,000)이 주어진다. 다음 N개의 줄에는 연산에 대한 정보를 나타내는 정수 x가 주어진다. 만약 x가 자연수라면 배열에 x라는 값을 넣는(추가하는) 연산이고, x가 0이라면 배열에서 가장 작은 값을 출력하고 그 값을 배열에서 제거하는 경우이다. x는 231보다 작은 자연수 또는 0이고, 음의 정수는 입력으로 주어지지 않는다.\n",
    "\n",
    "출력\n",
    "입력에서 0이 주어진 횟수만큼 답을 출력한다. 만약 배열이 비어 있는 경우인데 가장 작은 값을 출력하라고 한 경우에는 0을 출력하면 된다.\n",
    "\n",
    "9\n",
    "0\n",
    "12345678\n",
    "1\n",
    "2\n",
    "0\n",
    "0\n",
    "0\n",
    "0\n",
    "32\n",
    "```"
   ]
  },
  {
   "cell_type": "code",
   "execution_count": 23,
   "metadata": {},
   "outputs": [
    {
     "name": "stdout",
     "output_type": "stream",
     "text": [
      "0\n",
      "1\n",
      "2\n",
      "12345678\n",
      "0\n"
     ]
    }
   ],
   "source": [
    "import sys\n",
    "sys.stdin = open(\"input.txt\")\n",
    "\n",
    "import sys\n",
    "import heapq # 힙 + 큐\n",
    "input = sys.stdin.readline\n",
    "\n",
    "# 정수 1개 입력\n",
    "N = int(input())\n",
    "\n",
    "# 정수를 저장할 힙\n",
    "heap = []\n",
    "for _ in range(N) :\n",
    "    x = int(input())\n",
    "\n",
    "    if x == 0 :\n",
    "        if len(heap) == 0:\n",
    "            print(0)\n",
    "        else :\n",
    "            min_num = heapq.heappop(heap)\n",
    "            print(min_num)\n",
    "    else :\n",
    "        heapq.heappush(heap, x)"
   ]
  },
  {
   "cell_type": "markdown",
   "metadata": {},
   "source": [
    "# 백준 11279 최대힙\n",
    "https://www.acmicpc.net/problem/11279\n",
    "\n",
    "```\n",
    "따라서, 최대힙을 구현하려면 입력된 값에 -1을 곱해서 음수로 변환한 후 최소힙에 넣으면, 실제로는 가장 큰 값이 음수로 변환되어 최소힙에서 가장 작은 값처럼 취급됩니다. 이후 꺼낼 때 다시 -1을 곱해서 원래의 양수 값을 복원하는 방식으로 최대힙처럼 동작하게 만드는 것입니다.\n",
    "```"
   ]
  },
  {
   "cell_type": "code",
   "execution_count": 2,
   "metadata": {},
   "outputs": [
    {
     "name": "stdout",
     "output_type": "stream",
     "text": [
      "0\n",
      "2\n",
      "1\n",
      "3\n",
      "2\n",
      "1\n",
      "0\n",
      "0\n"
     ]
    }
   ],
   "source": [
    "import sys\n",
    "sys.stdin = open(\"input.txt\")\n",
    "\n",
    "import sys\n",
    "import heapq # 힙 + 큐\n",
    "input = sys.stdin.readline\n",
    "\n",
    "# 정수 1개 입력\n",
    "N = int(input())\n",
    "\n",
    "# 정수를 저장할 힙\n",
    "heap = []\n",
    "for _ in range(N) :\n",
    "    x = int(input())\n",
    "    x = x * -1\n",
    "\n",
    "    if x == 0 :\n",
    "        if len(heap) == 0:\n",
    "            print(0)\n",
    "        else :\n",
    "            max_num = -1 * heapq.heappop(heap)\n",
    "            print(max_num)\n",
    "    else :\n",
    "        heapq.heappush(heap, x)"
   ]
  },
  {
   "cell_type": "markdown",
   "metadata": {},
   "source": [
    "# 백준 11286 절대값 힙\n",
    "https://www.acmicpc.net/problem/11286"
   ]
  },
  {
   "cell_type": "code",
   "execution_count": 4,
   "metadata": {},
   "outputs": [
    {
     "name": "stdout",
     "output_type": "stream",
     "text": [
      "0\n",
      "1\n",
      "2\n",
      "1\n",
      "2\n",
      "3\n",
      "0\n",
      "0\n"
     ]
    }
   ],
   "source": [
    "# 절대값힙 (자주 나오지는 않음)\n",
    "\n",
    "import sys\n",
    "sys.stdin = open(\"input.txt\")\n",
    "\n",
    "# 힙 자료형 모듈 불러오기\n",
    "import heapq\n",
    "# 힙(heap) + 큐(queue)\n",
    "\n",
    "import sys\n",
    "input = sys.stdin.readline\n",
    "\n",
    "# 정수 1개 입력\n",
    "N = int(input())\n",
    "\n",
    "# 정수를 저장할 힙(heap) \n",
    "heap = []\n",
    "\n",
    "# 다음 N개의 줄 == N번 반복문\n",
    "for _ in range(N):\n",
    "    # 정수 1개 입력\n",
    "    x = int(input())\n",
    "    \n",
    "    # x가 0일 때\n",
    "    if x == 0:\n",
    "        if len(heap) == 0:\n",
    "            print(0)\n",
    "        else:\n",
    "            # 절대값이 가장 작은 값 POP\n",
    "            abs_number, min_number = heapq.heappop(heap)\n",
    "            print(min_number)\n",
    "            \n",
    "\n",
    "    # x가 0이 아닐 때\n",
    "    elif x != 0:\n",
    "        # (절대값, 원본값) : 절대값 최소힙\n",
    "        # (-원본값, 원본값) : 최대 힙 \n",
    "        heapq.heappush(heap, (abs(x), x))\n",
    "    "
   ]
  },
  {
   "cell_type": "markdown",
   "metadata": {},
   "source": [
    "# 재귀함수"
   ]
  },
  {
   "cell_type": "code",
   "execution_count": 9,
   "metadata": {},
   "outputs": [
    {
     "name": "stdout",
     "output_type": "stream",
     "text": [
      "120\n"
     ]
    }
   ],
   "source": [
    "# 팩토리얼\n",
    "\n",
    "def factorial(n) :\n",
    "    if n == 0 :\n",
    "        return 1\n",
    "    return n * factorial(n-1)\n",
    "print(factorial(5))"
   ]
  },
  {
   "cell_type": "code",
   "execution_count": 10,
   "metadata": {},
   "outputs": [
    {
     "name": "stdout",
     "output_type": "stream",
     "text": [
      "8\n"
     ]
    }
   ],
   "source": [
    "# 피보나치 수열\n",
    "\n",
    "def fibonacci(n) :\n",
    "    if n == 0 :\n",
    "        return 0\n",
    "    \n",
    "    elif n == 1:\n",
    "        return 1\n",
    "    \n",
    "    return fibonacci(n-1) + fibonacci(n-2)\n",
    "\n",
    "print(fibonacci(6))\n"
   ]
  },
  {
   "cell_type": "code",
   "execution_count": 20,
   "metadata": {},
   "outputs": [
    {
     "name": "stdout",
     "output_type": "stream",
     "text": [
      "0\n",
      "1\n",
      "2\n",
      "3\n",
      "4\n"
     ]
    }
   ],
   "source": [
    "list_ = [1,2,3,4,5]\n",
    "\n",
    "for index in range(len(list_)) :\n",
    "    print(index)"
   ]
  },
  {
   "cell_type": "code",
   "execution_count": 2,
   "metadata": {},
   "outputs": [
    {
     "name": "stdout",
     "output_type": "stream",
     "text": [
      "0\n",
      "1\n",
      "2\n",
      "3\n",
      "4\n"
     ]
    }
   ],
   "source": [
    "# 리스트의 인덱스를 출력하는 재귀함수 (for문을 통한 전체 list 원소의 출력을 재귀함수로 구현)\n",
    "\n",
    "list_ = [1,2,3,4,5]\n",
    "\n",
    "def func1(index):\n",
    "    # 기저 조건(base case) : 재귀를 멈출 조건\n",
    "    if index == len(list_):\n",
    "        return \n",
    "    print(index)\n",
    "    \n",
    "    # 재귀 단계 : 자기 자신을 호출하는 단계\n",
    "    func1(index+1)\n",
    "\n",
    "func1(0)"
   ]
  },
  {
   "cell_type": "code",
   "execution_count": 22,
   "metadata": {},
   "outputs": [
    {
     "name": "stdout",
     "output_type": "stream",
     "text": [
      "10\n",
      "9\n",
      "8\n",
      "7\n",
      "6\n",
      "5\n",
      "4\n",
      "3\n",
      "2\n",
      "1\n",
      "55\n"
     ]
    }
   ],
   "source": [
    "n = 10\n",
    "total = 0\n",
    "\n",
    "for i in reversed(range(1, n+1)):\n",
    "    print(i)\n",
    "    total += i\n",
    "print(total)"
   ]
  },
  {
   "cell_type": "code",
   "execution_count": 4,
   "metadata": {},
   "outputs": [
    {
     "name": "stdout",
     "output_type": "stream",
     "text": [
      "10\n",
      "9\n",
      "8\n",
      "7\n",
      "6\n",
      "5\n",
      "4\n",
      "3\n",
      "2\n",
      "1\n"
     ]
    },
    {
     "data": {
      "text/plain": [
       "55"
      ]
     },
     "execution_count": 4,
     "metadata": {},
     "output_type": "execute_result"
    }
   ],
   "source": [
    "def func2(n) :\n",
    "    if n == 0 :\n",
    "        return 0 # return 에 값을 넣지않으면 nan 반환\n",
    "    print(n)\n",
    "\n",
    "    return n + func2(n-1)\n",
    "\n",
    "func2(10)"
   ]
  },
  {
   "cell_type": "code",
   "execution_count": 10,
   "metadata": {},
   "outputs": [
    {
     "name": "stdout",
     "output_type": "stream",
     "text": [
      "10\n",
      "9\n",
      "8\n",
      "7\n",
      "6\n",
      "5\n",
      "4\n",
      "3\n",
      "2\n",
      "1\n",
      "55\n"
     ]
    }
   ],
   "source": [
    "# 함수 외부 변수\n",
    "total = 0\n",
    "\n",
    "def func2(n) :\n",
    "    global total\n",
    "\n",
    "    if n == 0 :\n",
    "        return 0 \n",
    "    print(n)\n",
    "\n",
    "    # 함수 외부 변수를 함수 내부에서 재할당하면 오류 발생, 출력은 문제가 없음\n",
    "    # global 키워드 사용해서 해결\n",
    "    total += n\n",
    "    \n",
    "    func2(n-1)\n",
    "\n",
    "func2(10)\n",
    "print(total)\n",
    "# total에 새로운 값을 저장하려고 하면 오류 발생 UnboundLocalError: cannot access local variable 'total' where it is not associated with a value"
   ]
  },
  {
   "cell_type": "code",
   "execution_count": null,
   "metadata": {},
   "outputs": [],
   "source": []
  }
 ],
 "metadata": {
  "kernelspec": {
   "display_name": "project",
   "language": "python",
   "name": "python3"
  },
  "language_info": {
   "codemirror_mode": {
    "name": "ipython",
    "version": 3
   },
   "file_extension": ".py",
   "mimetype": "text/x-python",
   "name": "python",
   "nbconvert_exporter": "python",
   "pygments_lexer": "ipython3",
   "version": "3.11.9"
  }
 },
 "nbformat": 4,
 "nbformat_minor": 2
}
